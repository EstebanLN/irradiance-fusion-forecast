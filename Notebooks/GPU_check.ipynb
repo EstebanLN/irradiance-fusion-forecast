{
 "cells": [
  {
   "cell_type": "code",
   "execution_count": null,
   "id": "e71047a2",
   "metadata": {},
   "outputs": [
    {
     "name": "stderr",
     "output_type": "stream",
     "text": [
      "2025-09-30 14:32:36.562885: I tensorflow/core/util/port.cc:153] oneDNN custom operations are on. You may see slightly different numerical results due to floating-point round-off errors from different computation orders. To turn them off, set the environment variable `TF_ENABLE_ONEDNN_OPTS=0`.\n",
      "2025-09-30 14:32:36.568635: E external/local_xla/xla/stream_executor/cuda/cuda_fft.cc:477] Unable to register cuFFT factory: Attempting to register factory for plugin cuFFT when one has already been registered\n",
      "WARNING: All log messages before absl::InitializeLog() is called are written to STDERR\n",
      "E0000 00:00:1759260756.575491 1493810 cuda_dnn.cc:8310] Unable to register cuDNN factory: Attempting to register factory for plugin cuDNN when one has already been registered\n",
      "E0000 00:00:1759260756.577717 1493810 cuda_blas.cc:1418] Unable to register cuBLAS factory: Attempting to register factory for plugin cuBLAS when one has already been registered\n",
      "2025-09-30 14:32:36.585465: I tensorflow/core/platform/cpu_feature_guard.cc:210] This TensorFlow binary is optimized to use available CPU instructions in performance-critical operations.\n",
      "To enable the following instructions: SSE4.1 SSE4.2 AVX AVX2 AVX512F AVX512_VNNI AVX512_BF16 AVX_VNNI FMA, in other operations, rebuild TensorFlow with the appropriate compiler flags.\n"
     ]
    },
    {
     "name": "stdout",
     "output_type": "stream",
     "text": [
      "🔹 TensorFlow version: 2.18.1\n",
      "GPUs visibles para TensorFlow: []\n"
     ]
    },
    {
     "name": "stderr",
     "output_type": "stream",
     "text": [
      "2025-09-30 14:32:37.822181: E external/local_xla/xla/stream_executor/cuda/cuda_driver.cc:152] failed call to cuInit: INTERNAL: CUDA error: Failed call to cuInit: CUDA_ERROR_COMPAT_NOT_SUPPORTED_ON_DEVICE: forward compatibility was attempted on non supported HW\n",
      "2025-09-30 14:32:37.822198: I external/local_xla/xla/stream_executor/cuda/cuda_diagnostics.cc:137] retrieving CUDA diagnostic information for host: solarlivinglabx\n",
      "2025-09-30 14:32:37.822201: I external/local_xla/xla/stream_executor/cuda/cuda_diagnostics.cc:144] hostname: solarlivinglabx\n",
      "2025-09-30 14:32:37.822258: I external/local_xla/xla/stream_executor/cuda/cuda_diagnostics.cc:168] libcuda reported version is: 580.65.6\n",
      "2025-09-30 14:32:37.822268: I external/local_xla/xla/stream_executor/cuda/cuda_diagnostics.cc:172] kernel reported version is: 575.64.3\n",
      "2025-09-30 14:32:37.822270: E external/local_xla/xla/stream_executor/cuda/cuda_diagnostics.cc:262] kernel version 575.64.3 does not match DSO version 580.65.6 -- cannot find working devices in this configuration\n"
     ]
    },
    {
     "name": "stdout",
     "output_type": "stream",
     "text": [
      "\n",
      "🔹 PyTorch version: 2.8.0+cu129\n",
      "¿CUDA disponible?  False\n",
      "\n",
      "🔹 scikit-learn version: 1.7.1\n",
      "⚠️ Nota: scikit-learn NO usa GPU por defecto (solo CPU).\n",
      "     Para acelerar con GPU se requieren librerías adicionales como cuML (RAPIDS).\n"
     ]
    },
    {
     "name": "stderr",
     "output_type": "stream",
     "text": [
      "/home/e.ladino/miniconda3/envs/e_ladino/lib/python3.12/site-packages/torch/cuda/__init__.py:182: UserWarning: CUDA initialization: Unexpected error from cudaGetDeviceCount(). Did you run some cuda functions before calling NumCudaDevices() that might have already set an error? Error 804: forward compatibility was attempted on non supported HW (Triggered internally at /pytorch/c10/cuda/CUDAFunctions.cpp:109.)\n",
      "  return torch._C._cuda_getDeviceCount() > 0\n"
     ]
    }
   ],
   "source": [
    "# -------------------------------\n",
    "# GPU CHECK: TensorFlow / Keras\n",
    "# -------------------------------\n",
    "import tensorflow as tf\n",
    "\n",
    "print(\"🔹 TensorFlow version:\", tf.__version__)\n",
    "gpus_tf = tf.config.list_physical_devices('GPU')\n",
    "print(\"GPUs visibles para TensorFlow:\", gpus_tf)\n",
    "\n",
    "# -------------------------------\n",
    "# GPU CHECK: PyTorch\n",
    "# -------------------------------\n",
    "import torch\n",
    "\n",
    "print(\"\\n🔹 PyTorch version:\", torch.__version__)\n",
    "print(\"¿CUDA disponible? \", torch.cuda.is_available())\n",
    "if torch.cuda.is_available():\n",
    "    print(\"GPU actual:\", torch.cuda.get_device_name(0))\n",
    "    print(\"Número de GPUs:\", torch.cuda.device_count())\n",
    "    print(\"Versión CUDA usada por PyTorch:\", torch.version.cuda)\n",
    "    print(\"Versión cuDNN:\", torch.backends.cudnn.version())\n"
   ]
  }
 ],
 "metadata": {
  "kernelspec": {
   "display_name": "e_ladino",
   "language": "python",
   "name": "python3"
  },
  "language_info": {
   "codemirror_mode": {
    "name": "ipython",
    "version": 3
   },
   "file_extension": ".py",
   "mimetype": "text/x-python",
   "name": "python",
   "nbconvert_exporter": "python",
   "pygments_lexer": "ipython3",
   "version": "3.12.11"
  }
 },
 "nbformat": 4,
 "nbformat_minor": 5
}
