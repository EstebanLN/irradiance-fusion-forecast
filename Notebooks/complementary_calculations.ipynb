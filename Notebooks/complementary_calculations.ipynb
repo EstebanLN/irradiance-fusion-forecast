{
 "cells": [
  {
   "cell_type": "markdown",
   "id": "ff6252f2",
   "metadata": {},
   "source": [
    "# Complementary calculations"
   ]
  },
  {
   "cell_type": "markdown",
   "id": "dcbd4644",
   "metadata": {},
   "source": [
    "# Size of crop"
   ]
  },
  {
   "cell_type": "markdown",
   "id": "8ec42552",
   "metadata": {},
   "source": [
    " **Objetivo:** Demostrar que un ROI de 224×224 píxeles (→ 32×32 resized) captura adecuadamente\n",
    "las nubes que afectarán la irradiancia en Uniandes en los próximos 1-6 horas."
   ]
  },
  {
   "cell_type": "markdown",
   "id": "fac1a83f",
   "metadata": {},
   "source": [
    "- https://www.star.nesdis.noaa.gov/goesr/documents/ATBDs/Baseline/ATBD_GOES-R_ABI_CMI_KPP_v3.0_July2012.pdf\n",
    "- https://www.ncei.noaa.gov/products/satellite/goes-r"
   ]
  },
  {
   "cell_type": "code",
   "execution_count": null,
   "id": "98f9ff0b",
   "metadata": {},
   "outputs": [
    {
     "name": "stdout",
     "output_type": "stream",
     "text": [
      "Resoluciones reales por canal (km):\n",
      "Canal  1: 1.0 km\n",
      "Canal  2: 0.5 km\n",
      "Canal  3: 1.0 km\n",
      "Canal  4: 2.0 km\n",
      "Canal  5: 1.0 km\n",
      "Canal  6: 2.0 km\n",
      "Canal  7: 2.0 km\n",
      "Canal  8: 2.0 km\n",
      "Canal  9: 2.0 km\n",
      "Canal 10: 2.0 km\n",
      "Canal 11: 2.0 km\n",
      "Canal 12: 2.0 km\n",
      "Canal 13: 2.0 km\n",
      "Canal 14: 2.0 km\n",
      "Canal 15: 2.0 km\n",
      "Canal 16: 2.0 km\n",
      "Canales agrupados por resolución:\n",
      "0.5 km: [2]\n",
      "1.0 km: [1, 3, 5]\n",
      "2.0 km: [4, 6, 7, 8, 9, 10, 11, 12, 13, 14, 15, 16]\n"
     ]
    }
   ],
   "source": [
    "import numpy as np\n",
    "import matplotlib.pyplot as plt\n",
    "from scipy import stats\n",
    "\n",
    "# Coordenadas Uniandes\n",
    "LAT, LON = 4.6043, -74.0659\n",
    "\n",
    "# Parámetros GOES-16\n",
    "SAT_HEIGHT = 35785.373 # Altura del satélite [m] (GOES-16)\n",
    "SAT_LON = -75.2        # Longitud del satélite [°]\n",
    "\n",
    "# Parámetros de nubes\n",
    "MAX_CLOUD_SPEED = 30.0  # Velocidad máxima de nubes [m/s] (consultar literatura)\n",
    "PREDICTION_HORIZONS = [1, 2, 3, 4, 5, 6]  # Horas de predicción\n",
    "\n",
    "\n",
    "# Parámetros de resolución GOES\n",
    "RESOLUTIONS_KM = {\n",
    "    1: 1.0,    # 0.47 μm - 1 km\n",
    "    2: 0.5,    # 0.64 μm - 0.5 km (visible de alta res)\n",
    "    3: 1.0,    # 0.865 μm - 1 km\n",
    "    4: 2.0,    # 1.378 μm - 2 km\n",
    "    5: 1.0,    # 1.61 μm - 1 km\n",
    "    6: 2.0,    # 2.25 μm - 2 km\n",
    "    7: 2.0,    # 3.90 μm - 2 km\n",
    "    8: 2.0,    # 6.19 μm - 2 km\n",
    "    9: 2.0,    # 6.95 μm - 2 km\n",
    "    10: 2.0,   # 7.34 μm - 2 km\n",
    "    11: 2.0,   # 8.5 μm - 2 km\n",
    "    12: 2.0,   # 9.61 μm - 2 km\n",
    "    13: 2.0,   # 10.35 μm - 2 km\n",
    "    14: 2.0,   # 11.2 μm - 2 km\n",
    "    15: 2.0,   # 12.3 μm - 2 km\n",
    "    16: 2.0    # 13.3 μm - 2 km\n",
    "}\n",
    "\n",
    "CLOUD_CHANNELS = [2, 13, 14, 15] # Visible + IR para nubes\n",
    "\n",
    "\n",
    "print(\"Resoluciones reales por canal (km):\")\n",
    "for ch, res in RESOLUTIONS_KM.items():\n",
    "    print(f\"Canal {ch:2d}: {res} km\")\n",
    "\n",
    "resolution_groups = {}\n",
    "for ch, res in RESOLUTIONS_KM.items():\n",
    "    if res not in resolution_groups:\n",
    "        resolution_groups[res] = []\n",
    "    resolution_groups[res].append(ch)\n",
    "\n",
    "print(\"Canales agrupados por resolución:\")\n",
    "for res, channels in sorted(resolution_groups.items()):\n",
    "    print(f\"{res} km: {channels}\")"
   ]
  },
  {
   "cell_type": "code",
   "execution_count": 17,
   "id": "e4b3df71",
   "metadata": {},
   "outputs": [],
   "source": [
    "ROI_PIXELS = 224"
   ]
  },
  {
   "cell_type": "code",
   "execution_count": 18,
   "id": "6032b1f3",
   "metadata": {},
   "outputs": [
    {
     "name": "stdout",
     "output_type": "stream",
     "text": [
      "\n",
      "Tamaño físico del ROI para cada resolución:\n",
      "1.0 km/píxel: 224.0 km × 224.0 km\n",
      "0.5 km/píxel: 112.0 km × 112.0 km\n",
      "2.0 km/píxel: 448.0 km × 448.0 km\n"
     ]
    }
   ],
   "source": [
    "roi_sizes_km = {}\n",
    "for res in resolution_groups:\n",
    "    roi_sizes_km[res] = ROI_PIXELS * res\n",
    "\n",
    "print(f\"\\nTamaño físico del ROI para cada resolución:\")\n",
    "for res, size in roi_sizes_km.items():\n",
    "    print(f\"{res} km/píxel: {size} km × {size} km\")"
   ]
  },
  {
   "cell_type": "code",
   "execution_count": 19,
   "id": "a1abb0fa",
   "metadata": {},
   "outputs": [
    {
     "name": "stdout",
     "output_type": "stream",
     "text": [
      "CÁLCULO DE DISTANCIA MÁXIMA EN ROI RECTANGULAR\n",
      "==================================================\n",
      "\n",
      "Resolución 0.5 km/píxel:\n",
      "  • ROI: 112.0 km × 112.0 km\n",
      "  • Distancia máxima en ROI: 79.2 km\n",
      "  • (Desde centro hasta esquina)\n",
      "\n",
      "Resolución 1.0 km/píxel:\n",
      "  • ROI: 224.0 km × 224.0 km\n",
      "  • Distancia máxima en ROI: 158.4 km\n",
      "  • (Desde centro hasta esquina)\n",
      "\n",
      "Resolución 2.0 km/píxel:\n",
      "  • ROI: 448.0 km × 448.0 km\n",
      "  • Distancia máxima en ROI: 316.8 km\n",
      "  • (Desde centro hasta esquina)\n"
     ]
    }
   ],
   "source": [
    "print(\"CÁLCULO DE DISTANCIA MÁXIMA EN ROI RECTANGULAR\")\n",
    "print(\"=\"*50)\n",
    "\n",
    "for res_km in sorted(set(RESOLUTIONS_KM.values())):\n",
    "    # Tamaño físico del ROI\n",
    "    roi_width_km = ROI_PIXELS * res_km\n",
    "    roi_height_km = ROI_PIXELS * res_km\n",
    "    \n",
    "    # Distancia MÁXIMA (diagonal) desde el centro hasta cualquier esquina\n",
    "    max_distance_in_roi = np.sqrt((roi_width_km/2)**2 + (roi_height_km/2)**2)\n",
    "    \n",
    "    print(f\"\\nResolución {res_km} km/píxel:\")\n",
    "    print(f\"  • ROI: {roi_width_km:.1f} km × {roi_height_km:.1f} km\")\n",
    "    print(f\"  • Distancia máxima en ROI: {max_distance_in_roi:.1f} km\")\n",
    "    print(f\"  • (Desde centro hasta esquina)\")"
   ]
  },
  {
   "cell_type": "code",
   "execution_count": 20,
   "id": "b69652b4",
   "metadata": {},
   "outputs": [
    {
     "name": "stdout",
     "output_type": "stream",
     "text": [
      "Distancias máximas de recorrido de nubes:\n",
      "1h: 108.0 km\n",
      "2h: 216.0 km\n",
      "3h: 324.0 km\n",
      "4h: 432.0 km\n",
      "5h: 540.0 km\n",
      "6h: 648.0 km\n",
      "\n",
      "Máxima distancia requerida (6h): 648.0 km\n"
     ]
    }
   ],
   "source": [
    "cloud_distances = {}\n",
    "for hours in PREDICTION_HORIZONS:\n",
    "    seconds = hours * 3600\n",
    "    max_distance_km = (MAX_CLOUD_SPEED * seconds) / 1000  # [km]\n",
    "    cloud_distances[hours] = max_distance_km\n",
    "\n",
    "print(\"Distancias máximas de recorrido de nubes:\")\n",
    "for hours, dist in cloud_distances.items():\n",
    "    print(f\"{hours}h: {dist:.1f} km\")\n",
    "\n",
    "# Radio necesario para cada horizonte\n",
    "max_required_distance = cloud_distances[6]  # Para 6 horas\n",
    "print(f\"\\nMáxima distancia requerida (6h): {max_required_distance:.1f} km\")"
   ]
  },
  {
   "cell_type": "code",
   "execution_count": 25,
   "id": "e155f684",
   "metadata": {},
   "outputs": [
    {
     "name": "stdout",
     "output_type": "stream",
     "text": [
      "\n",
      "ANÁLISIS COMPARATIVO - ¿EL ROI ACTUAL ES SUFICIENTE?\n",
      "============================================================\n",
      "\n",
      "Resolución 0.5 km/píxel:\n",
      "  • ROI: 112.0 km x 112.0 km\n",
      "  • Dist. máxima: 158.4 km\n",
      "  • Dist. requerida: 648.0 km\n",
      "  • Ratio: 0.24\n",
      "INSUFICIENTE - Faltan 489.6 km\n",
      "  • Canales: [2]\n",
      "  • Canales de nubes: [2]\n",
      "\n",
      "Resolución 1.0 km/píxel:\n",
      "  • ROI: 224.0 km x 224.0 km\n",
      "  • Dist. máxima: 316.8 km\n",
      "  • Dist. requerida: 648.0 km\n",
      "  • Ratio: 0.49\n",
      "INSUFICIENTE - Faltan 331.2 km\n",
      "  • Canales: [1, 3, 5]\n",
      "\n",
      "Resolución 2.0 km/píxel:\n",
      "  • ROI: 448.0 km x 448.0 km\n",
      "  • Dist. máxima: 633.6 km\n",
      "  • Dist. requerida: 648.0 km\n",
      "  • Ratio: 0.98\n",
      "INSUFICIENTE - Faltan 14.4 km\n",
      "  • Canales: [4, 6, 7, 8, 9, 10, 11, 12, 13, 14, 15, 16]\n",
      "  • Canales de nubes: [13, 14, 15]\n"
     ]
    }
   ],
   "source": [
    "print(\"\\nANÁLISIS COMPARATIVO - ¿EL ROI ACTUAL ES SUFICIENTE?\")\n",
    "print(\"=\"*60)\n",
    "\n",
    "for res_km in sorted(set(RESOLUTIONS_KM.values())):\n",
    "    # Distancia máxima en ROI actual\n",
    "    roi_size_km = ROI_PIXELS * res_km\n",
    "    max_distance_in_roi = np.sqrt((roi_size_km)**2 + (roi_size_km)**2)\n",
    "    \n",
    "    # Factor de cobertura\n",
    "    coverage_ratio = max_distance_in_roi / max_required_distance\n",
    "    \n",
    "    # Canales con esta resolución\n",
    "    channels = [ch for ch, res in RESOLUTIONS_KM.items() if res == res_km]\n",
    "    cloud_channels = [ch for ch in channels if ch in [2, 13, 14, 15]]  # Canales de nubes\n",
    "    \n",
    "    print(f\"\\nResolución {res_km} km/píxel:\")\n",
    "    print(f\"  • ROI: {roi_size_km:.1f} km x {roi_size_km:.1f} km\")\n",
    "    print(f\"  • Dist. máxima: {max_distance_in_roi:.1f} km\")\n",
    "    print(f\"  • Dist. requerida: {max_required_distance:.1f} km\")\n",
    "    print(f\"  • Ratio: {coverage_ratio:.2f}\")\n",
    "    \n",
    "    if coverage_ratio >= 1.0:\n",
    "        print(f\"SUFICIENTE - Cubre {max_required_distance:.1f} km\")\n",
    "    else:\n",
    "        deficit = max_required_distance - max_distance_in_roi\n",
    "        print(f\"INSUFICIENTE - Faltan {deficit:.1f} km\")\n",
    "    \n",
    "    print(f\"  • Canales: {channels}\")\n",
    "    if cloud_channels:\n",
    "        print(f\"  • Canales de nubes: {cloud_channels}\")"
   ]
  },
  {
   "cell_type": "code",
   "execution_count": 22,
   "id": "bef3f8ce",
   "metadata": {},
   "outputs": [
    {
     "name": "stdout",
     "output_type": "stream",
     "text": [
      "\n",
      "CÁLCULO DEL ROI NECESARIO\n",
      "========================================\n",
      "ROI mínimo teórico: 459 px\n",
      "ROI con margen 20%: 551 px\n",
      "ROI final (múltiplo de 32): 576 px\n"
     ]
    }
   ],
   "source": [
    "print(\"\\nCÁLCULO DEL ROI NECESARIO\")\n",
    "print(\"=\"*40)\n",
    "\n",
    "# Queremos que la diagonal ≥ distancia requerida\n",
    "# diagonal = √( (n*res/2)² + (n*res/2)² ) = √(2*(n*res/2)²) = (n*res)/√2\n",
    "\n",
    "# Despejando n: n ≥ (distancia_requerida * √2) / res\n",
    "\n",
    "required_roi_pixels = int(np.ceil((max_required_distance * np.sqrt(2)) / 2))\n",
    "\n",
    "# Añadir margen de seguridad 20%\n",
    "SAFETY_MARGIN = 1.2\n",
    "required_roi_pixels_with_margin = int(np.ceil(required_roi_pixels * SAFETY_MARGIN))\n",
    "\n",
    "# Asegurar que sea múltiplo de 32 para CNN\n",
    "required_roi_pixels_final = ((required_roi_pixels_with_margin + 31) // 32) * 32\n",
    "\n",
    "print(f\"ROI mínimo teórico: {required_roi_pixels} px\")\n",
    "print(f\"ROI con margen 20%: {required_roi_pixels_with_margin} px\")  \n",
    "print(f\"ROI final (múltiplo de 32): {required_roi_pixels_final} px\")"
   ]
  },
  {
   "cell_type": "code",
   "execution_count": 24,
   "id": "9a19c819",
   "metadata": {},
   "outputs": [
    {
     "data": {
      "image/png": "[encoded data removed]",
      "text/plain": [
       "<Figure size 800x800 with 1 Axes>"
      ]
     },
     "metadata": {},
     "output_type": "display_data"
    }
   ],
   "source": [
    "# Visualización del concepto\n",
    "fig, ax = plt.subplots(figsize=(8, 8))\n",
    "\n",
    "# ROI actual\n",
    "current_rect = plt.Rectangle((-roi_size_km/2, -roi_size_km/2), roi_size_km, roi_size_km,\n",
    "                           fill=False, edgecolor='red', linewidth=2, label='ROI Actual')\n",
    "\n",
    "# ROI requerido\n",
    "req_roi_size_km = required_roi_pixels_final * 2\n",
    "req_rect = plt.Rectangle((-req_roi_size_km/2, -req_roi_size_km/2), req_roi_size_km, req_roi_size_km,\n",
    "                        fill=False, edgecolor='green', linewidth=2, label='ROI Requerido')\n",
    "\n",
    "# Círculo de distancia requerida\n",
    "circle = plt.Circle((0, 0), max_required_distance, fill=False, edgecolor='blue', \n",
    "                   linewidth=2, linestyle='--', label='Distancia 6h')\n",
    "\n",
    "ax.add_patch(current_rect)\n",
    "ax.add_patch(req_rect)\n",
    "ax.add_patch(circle)\n",
    "\n",
    "# Líneas de distancia\n",
    "ax.plot([0, roi_size_km/2], [0, roi_size_km/2], 'red', linestyle=':', alpha=0.7)\n",
    "ax.plot([0, req_roi_size_km/2], [0, req_roi_size_km/2], 'green', linestyle=':', alpha=0.7)\n",
    "ax.plot([0, max_required_distance], [0, 0], 'blue', linestyle=':', alpha=0.7)\n",
    "\n",
    "ax.set_xlim(-max_required_distance*1.2, max_required_distance*1.2)\n",
    "ax.set_ylim(-max_required_distance*1.2, max_required_distance*1.2)\n",
    "ax.set_aspect('equal')\n",
    "ax.grid(True, alpha=0.3)\n",
    "ax.legend()\n",
    "ax.set_title('Comparación de ROI vs Distancia Requerida (6 horas)')\n",
    "ax.set_xlabel('Distancia Este-Oeste (km)')\n",
    "ax.set_ylabel('Distancia Norte-Sur (km)')\n",
    "\n",
    "plt.show()"
   ]
  }
 ],
 "metadata": {
  "kernelspec": {
   "display_name": "e_ladino",
   "language": "python",
   "name": "python3"
  },
  "language_info": {
   "codemirror_mode": {
    "name": "ipython",
    "version": 3
   },
   "file_extension": ".py",
   "mimetype": "text/x-python",
   "name": "python",
   "nbconvert_exporter": "python",
   "pygments_lexer": "ipython3",
   "version": "3.12.11"
  }
 },
 "nbformat": 4,
 "nbformat_minor": 5
}
