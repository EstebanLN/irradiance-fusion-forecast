{
 "cells": [
  {
   "cell_type": "markdown",
   "id": "89f84869",
   "metadata": {},
   "source": [
    "# Exploración de datos"
   ]
  },
  {
   "cell_type": "markdown",
   "id": "a9ef543f",
   "metadata": {},
   "source": [
    "## Estación en tierra (Uniandes)\n",
    " - Lectura de CSV (punto y coma, coma decimal)\n",
    " - Alineación a malla uniforme de 10 min (UTC)\n",
    " - QC básico de GHI (corte de negativos y techo físico)\n",
    " - Suavizado opcional (Savitzky–Golay o media móvil)\n",
    " - Cálculo de cielo despejado con pvlib y k_ghi (índice de cielo despejado)\n",
    " - Exporta Parquet comprimido y figura de diagnóstico"
   ]
  },
  {
   "cell_type": "markdown",
   "id": "177d6fae",
   "metadata": {},
   "source": [
    "### Librerías"
   ]
  },
  {
   "cell_type": "code",
   "execution_count": null,
   "id": "ea16026d",
   "metadata": {},
   "outputs": [],
   "source": [
    "from __future__ import annotations\n",
    "import os\n",
    "from pathlib import Path\n",
    "from dataclasses import dataclass\n",
    "import numpy as np\n",
    "import pandas as pd\n",
    "from tqdm import tqdm\n",
    "\n",
    "# gráficos\n",
    "import matplotlib.pyplot as plt\n",
    "import matplotlib.dates as mdates\n",
    "\n",
    "# suavizado opcional\n",
    "from scipy.signal import savgol_filter\n",
    "\n",
    "# contexto solar\n",
    "import pvlib"
   ]
  },
  {
   "cell_type": "code",
   "execution_count": null,
   "id": "8bb9a0c4",
   "metadata": {},
   "outputs": [],
   "source": [
    "df = pd.read_csv(\"datos/datos_tierra.csv\",\n",
    "                          sep=\";\",\n",
    "                          index_col=0,\n",
    "                          parse_dates=True,\n",
    "                          decimal=\",\")"
   ]
  }
 ],
 "metadata": {
  "kernelspec": {
   "display_name": "e_ladino",
   "language": "python",
   "name": "python3"
  },
  "language_info": {
   "name": "python",
   "version": "3.12.11"
  }
 },
 "nbformat": 4,
 "nbformat_minor": 5
}
