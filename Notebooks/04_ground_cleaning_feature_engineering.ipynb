{
 "cells": [
  {
   "cell_type": "markdown",
   "id": "9eae2394",
   "metadata": {},
   "source": [
    "# Ground Station — Data Cleaning & Feature Engineering"
   ]
  },
  {
   "cell_type": "code",
   "execution_count": 9,
   "id": "40167ebb",
   "metadata": {},
   "outputs": [],
   "source": [
    "from __future__ import annotations\n",
    "from dataclasses import dataclass\n",
    "from pathlib import Path\n",
    "import numpy as np\n",
    "import pandas as pd\n",
    "import pvlib\n",
    "import matplotlib.pyplot as plt"
   ]
  },
  {
   "cell_type": "markdown",
   "id": "3157d318",
   "metadata": {},
   "source": [
    "## Config"
   ]
  },
  {
   "cell_type": "code",
   "execution_count": 10,
   "id": "4fbb57f5",
   "metadata": {},
   "outputs": [],
   "source": [
    "PRQ_IN   = Path(\"../data_interim/ground_features.parquet\")\n",
    "OUT_INT  = Path(\"../data_interim\")\n",
    "OUT_PROC = Path(\"../data_processed\")\n",
    "OUT_INT.mkdir(parents=True, exist_ok=True)\n",
    "OUT_PROC.mkdir(parents=True, exist_ok=True)"
   ]
  },
  {
   "cell_type": "code",
   "execution_count": 11,
   "id": "2a33c1fd",
   "metadata": {},
   "outputs": [],
   "source": [
    "FREQ        = \"10min\"\n",
    "LAT, LON, ALT_M = 4.6043, -74.0659, 2624.0\n",
    "DAY_WM2     = 50.0           # umbral “día” para k\n",
    "H           = 6              # horizonte +60 min (6*10min)\n",
    "TARGET_BASE = \"ghi_qc\"  "
   ]
  },
  {
   "cell_type": "markdown",
   "id": "87567940",
   "metadata": {},
   "source": [
    "## Data"
   ]
  },
  {
   "cell_type": "code",
   "execution_count": 12,
   "id": "9d0208da",
   "metadata": {},
   "outputs": [],
   "source": [
    "df = pd.read_parquet(PRQ_IN).sort_index()\n",
    "\n",
    "if df.index.tz is None:\n",
    "    df.index = df.index.tz_localize(\"UTC\")\n",
    "else:\n",
    "    df.index = df.index.tz_convert(\"UTC\")"
   ]
  },
  {
   "cell_type": "code",
   "execution_count": 13,
   "id": "7a710868",
   "metadata": {},
   "outputs": [
    {
     "data": {
      "text/html": [
       "<div>\n",
       "<style scoped>\n",
       "    .dataframe tbody tr th:only-of-type {\n",
       "        vertical-align: middle;\n",
       "    }\n",
       "\n",
       "    .dataframe tbody tr th {\n",
       "        vertical-align: top;\n",
       "    }\n",
       "\n",
       "    .dataframe thead th {\n",
       "        text-align: right;\n",
       "    }\n",
       "</style>\n",
       "<table border=\"1\" class=\"dataframe\">\n",
       "  <thead>\n",
       "    <tr style=\"text-align: right;\">\n",
       "      <th></th>\n",
       "      <th>Hr</th>\n",
       "      <th>p_hpa</th>\n",
       "      <th>wdir_deg</th>\n",
       "      <th>temp_c</th>\n",
       "      <th>wspd_ms</th>\n",
       "      <th>ghi_cs</th>\n",
       "      <th>hod_sin</th>\n",
       "      <th>hod_cos</th>\n",
       "      <th>doy_sin</th>\n",
       "      <th>doy_cos</th>\n",
       "      <th>...</th>\n",
       "      <th>y_ghi_h18</th>\n",
       "      <th>y_ghi_sg_h18</th>\n",
       "      <th>y_k_raw_h24</th>\n",
       "      <th>y_k_h24</th>\n",
       "      <th>y_ghi_h24</th>\n",
       "      <th>y_ghi_sg_h24</th>\n",
       "      <th>y_k_raw_h36</th>\n",
       "      <th>y_k_h36</th>\n",
       "      <th>y_ghi_h36</th>\n",
       "      <th>y_ghi_sg_h36</th>\n",
       "    </tr>\n",
       "    <tr>\n",
       "      <th>Timestamp</th>\n",
       "      <th></th>\n",
       "      <th></th>\n",
       "      <th></th>\n",
       "      <th></th>\n",
       "      <th></th>\n",
       "      <th></th>\n",
       "      <th></th>\n",
       "      <th></th>\n",
       "      <th></th>\n",
       "      <th></th>\n",
       "      <th></th>\n",
       "      <th></th>\n",
       "      <th></th>\n",
       "      <th></th>\n",
       "      <th></th>\n",
       "      <th></th>\n",
       "      <th></th>\n",
       "      <th></th>\n",
       "      <th></th>\n",
       "      <th></th>\n",
       "      <th></th>\n",
       "    </tr>\n",
       "  </thead>\n",
       "  <tbody>\n",
       "    <tr>\n",
       "      <th>2023-09-01 05:00:00+00:00</th>\n",
       "      <td>74.391998</td>\n",
       "      <td>745.236023</td>\n",
       "      <td>135.766006</td>\n",
       "      <td>12.505</td>\n",
       "      <td>1.950</td>\n",
       "      <td>0.0</td>\n",
       "      <td>0.0</td>\n",
       "      <td>1.0</td>\n",
       "      <td>-0.871706</td>\n",
       "      <td>-0.490029</td>\n",
       "      <td>...</td>\n",
       "      <td>0.0</td>\n",
       "      <td>0.0</td>\n",
       "      <td>NaN</td>\n",
       "      <td>10371.428711</td>\n",
       "      <td>0.000</td>\n",
       "      <td>0.010371</td>\n",
       "      <td>NaN</td>\n",
       "      <td>3.157978</td>\n",
       "      <td>13.117000</td>\n",
       "      <td>13.100971</td>\n",
       "    </tr>\n",
       "    <tr>\n",
       "      <th>2023-09-01 05:10:00+00:00</th>\n",
       "      <td>76.579002</td>\n",
       "      <td>745.085999</td>\n",
       "      <td>112.135002</td>\n",
       "      <td>12.032</td>\n",
       "      <td>2.514</td>\n",
       "      <td>0.0</td>\n",
       "      <td>0.0</td>\n",
       "      <td>1.0</td>\n",
       "      <td>-0.871706</td>\n",
       "      <td>-0.490029</td>\n",
       "      <td>...</td>\n",
       "      <td>0.0</td>\n",
       "      <td>0.0</td>\n",
       "      <td>NaN</td>\n",
       "      <td>29085.714844</td>\n",
       "      <td>0.038</td>\n",
       "      <td>0.029086</td>\n",
       "      <td>NaN</td>\n",
       "      <td>0.846947</td>\n",
       "      <td>21.969999</td>\n",
       "      <td>21.708057</td>\n",
       "    </tr>\n",
       "    <tr>\n",
       "      <th>2023-09-01 05:20:00+00:00</th>\n",
       "      <td>75.459999</td>\n",
       "      <td>744.940002</td>\n",
       "      <td>111.295998</td>\n",
       "      <td>12.337</td>\n",
       "      <td>2.126</td>\n",
       "      <td>0.0</td>\n",
       "      <td>0.0</td>\n",
       "      <td>1.0</td>\n",
       "      <td>-0.871706</td>\n",
       "      <td>-0.490029</td>\n",
       "      <td>...</td>\n",
       "      <td>0.0</td>\n",
       "      <td>0.0</td>\n",
       "      <td>NaN</td>\n",
       "      <td>28085.714844</td>\n",
       "      <td>0.031</td>\n",
       "      <td>0.028086</td>\n",
       "      <td>0.477264</td>\n",
       "      <td>0.477013</td>\n",
       "      <td>29.533001</td>\n",
       "      <td>29.517487</td>\n",
       "    </tr>\n",
       "    <tr>\n",
       "      <th>2023-09-01 05:30:00+00:00</th>\n",
       "      <td>77.004997</td>\n",
       "      <td>744.969971</td>\n",
       "      <td>102.699997</td>\n",
       "      <td>11.872</td>\n",
       "      <td>2.877</td>\n",
       "      <td>0.0</td>\n",
       "      <td>0.0</td>\n",
       "      <td>1.0</td>\n",
       "      <td>-0.871706</td>\n",
       "      <td>-0.490029</td>\n",
       "      <td>...</td>\n",
       "      <td>0.0</td>\n",
       "      <td>0.0</td>\n",
       "      <td>NaN</td>\n",
       "      <td>-9857.142578</td>\n",
       "      <td>0.000</td>\n",
       "      <td>-0.009857</td>\n",
       "      <td>0.344864</td>\n",
       "      <td>0.355321</td>\n",
       "      <td>36.602001</td>\n",
       "      <td>37.711830</td>\n",
       "    </tr>\n",
       "    <tr>\n",
       "      <th>2023-09-01 05:40:00+00:00</th>\n",
       "      <td>77.724998</td>\n",
       "      <td>745.020020</td>\n",
       "      <td>106.753998</td>\n",
       "      <td>11.756</td>\n",
       "      <td>3.159</td>\n",
       "      <td>0.0</td>\n",
       "      <td>0.0</td>\n",
       "      <td>1.0</td>\n",
       "      <td>-0.871706</td>\n",
       "      <td>-0.490029</td>\n",
       "      <td>...</td>\n",
       "      <td>0.0</td>\n",
       "      <td>0.0</td>\n",
       "      <td>NaN</td>\n",
       "      <td>63171.429688</td>\n",
       "      <td>0.000</td>\n",
       "      <td>0.063171</td>\n",
       "      <td>0.285757</td>\n",
       "      <td>0.265680</td>\n",
       "      <td>44.153999</td>\n",
       "      <td>41.051743</td>\n",
       "    </tr>\n",
       "  </tbody>\n",
       "</table>\n",
       "<p>5 rows × 65 columns</p>\n",
       "</div>"
      ],
      "text/plain": [
       "                                  Hr       p_hpa    wdir_deg  temp_c  wspd_ms  \\\n",
       "Timestamp                                                                       \n",
       "2023-09-01 05:00:00+00:00  74.391998  745.236023  135.766006  12.505    1.950   \n",
       "2023-09-01 05:10:00+00:00  76.579002  745.085999  112.135002  12.032    2.514   \n",
       "2023-09-01 05:20:00+00:00  75.459999  744.940002  111.295998  12.337    2.126   \n",
       "2023-09-01 05:30:00+00:00  77.004997  744.969971  102.699997  11.872    2.877   \n",
       "2023-09-01 05:40:00+00:00  77.724998  745.020020  106.753998  11.756    3.159   \n",
       "\n",
       "                           ghi_cs  hod_sin  hod_cos   doy_sin   doy_cos  ...  \\\n",
       "Timestamp                                                                ...   \n",
       "2023-09-01 05:00:00+00:00     0.0      0.0      1.0 -0.871706 -0.490029  ...   \n",
       "2023-09-01 05:10:00+00:00     0.0      0.0      1.0 -0.871706 -0.490029  ...   \n",
       "2023-09-01 05:20:00+00:00     0.0      0.0      1.0 -0.871706 -0.490029  ...   \n",
       "2023-09-01 05:30:00+00:00     0.0      0.0      1.0 -0.871706 -0.490029  ...   \n",
       "2023-09-01 05:40:00+00:00     0.0      0.0      1.0 -0.871706 -0.490029  ...   \n",
       "\n",
       "                           y_ghi_h18  y_ghi_sg_h18  y_k_raw_h24       y_k_h24  \\\n",
       "Timestamp                                                                       \n",
       "2023-09-01 05:00:00+00:00        0.0           0.0          NaN  10371.428711   \n",
       "2023-09-01 05:10:00+00:00        0.0           0.0          NaN  29085.714844   \n",
       "2023-09-01 05:20:00+00:00        0.0           0.0          NaN  28085.714844   \n",
       "2023-09-01 05:30:00+00:00        0.0           0.0          NaN  -9857.142578   \n",
       "2023-09-01 05:40:00+00:00        0.0           0.0          NaN  63171.429688   \n",
       "\n",
       "                           y_ghi_h24  y_ghi_sg_h24  y_k_raw_h36   y_k_h36  \\\n",
       "Timestamp                                                                   \n",
       "2023-09-01 05:00:00+00:00      0.000      0.010371          NaN  3.157978   \n",
       "2023-09-01 05:10:00+00:00      0.038      0.029086          NaN  0.846947   \n",
       "2023-09-01 05:20:00+00:00      0.031      0.028086     0.477264  0.477013   \n",
       "2023-09-01 05:30:00+00:00      0.000     -0.009857     0.344864  0.355321   \n",
       "2023-09-01 05:40:00+00:00      0.000      0.063171     0.285757  0.265680   \n",
       "\n",
       "                           y_ghi_h36  y_ghi_sg_h36  \n",
       "Timestamp                                           \n",
       "2023-09-01 05:00:00+00:00  13.117000     13.100971  \n",
       "2023-09-01 05:10:00+00:00  21.969999     21.708057  \n",
       "2023-09-01 05:20:00+00:00  29.533001     29.517487  \n",
       "2023-09-01 05:30:00+00:00  36.602001     37.711830  \n",
       "2023-09-01 05:40:00+00:00  44.153999     41.051743  \n",
       "\n",
       "[5 rows x 65 columns]"
      ]
     },
     "execution_count": 13,
     "metadata": {},
     "output_type": "execute_result"
    }
   ],
   "source": [
    "df.head()"
   ]
  },
  {
   "cell_type": "code",
   "execution_count": 14,
   "id": "62510cc8",
   "metadata": {},
   "outputs": [
    {
     "name": "stdout",
     "output_type": "stream",
     "text": [
      "Date range: 2023-09-01 05:00:00+00:00 → 2025-03-28 04:50:00+00:00\n",
      "Columns: 65\n"
     ]
    }
   ],
   "source": [
    "print(\"Date range:\", df.index.min(), \"→\", df.index.max())\n",
    "print(\"Columns:\", len(df.columns))"
   ]
  },
  {
   "cell_type": "markdown",
   "id": "66ea1246",
   "metadata": {},
   "source": [
    "## Target"
   ]
  },
  {
   "cell_type": "code",
   "execution_count": 15,
   "id": "11a2dfa7",
   "metadata": {},
   "outputs": [
    {
     "name": "stdout",
     "output_type": "stream",
     "text": [
      "Usando TARGET: y_ghi_h6\n"
     ]
    }
   ],
   "source": [
    "H = 6  # horizonte de +60 min\n",
    "candidatos = [f\"y_ghi_h{H}\", f\"y_k_h{H}\", f\"y_ghi_sg_h{H}\"]\n",
    "targets_existentes = [c for c in df.columns if c.startswith(\"y_\")]\n",
    "\n",
    "TARGET = None\n",
    "for c in candidatos:\n",
    "    if c in df.columns:\n",
    "        TARGET = c\n",
    "        break\n",
    "if TARGET is None:\n",
    "    # como fallback, toma el primer y_*_h{H} que exista\n",
    "    posibles_h = [c for c in targets_existentes if c.endswith(f\"_h{H}\")]\n",
    "    if posibles_h:\n",
    "        TARGET = posibles_h[0]\n",
    "\n",
    "if TARGET is None:\n",
    "    raise RuntimeError(\n",
    "        f\"No encontré ningún target y_* para h={H} en {PRQ_IN}. \"\n",
    "        \"Asegúrate de que el parquet master se generó con y_k_h*, y_ghi_h*, y_ghi_sg_h*.\"\n",
    "    )\n",
    "\n",
    "print(\"Usando TARGET:\", TARGET)"
   ]
  },
  {
   "cell_type": "markdown",
   "id": "ec1b908c",
   "metadata": {},
   "source": [
    "## Features"
   ]
  },
  {
   "cell_type": "code",
   "execution_count": 16,
   "id": "a00a1e70",
   "metadata": {},
   "outputs": [],
   "source": [
    "# ---- Features = todas las numéricas excepto cualquier y_* (evita fuga) ----\n",
    "all_numeric = df.select_dtypes(include=[np.number])\n",
    "y_cols = [c for c in all_numeric.columns if c.startswith(\"y_\")]\n",
    "FEATS = [c for c in all_numeric.columns if c not in y_cols]  # sin targets\n"
   ]
  },
  {
   "cell_type": "markdown",
   "id": "123a494a",
   "metadata": {},
   "source": [
    "## Selection"
   ]
  },
  {
   "cell_type": "code",
   "execution_count": 17,
   "id": "d26c43bf",
   "metadata": {},
   "outputs": [],
   "source": [
    "Xy = all_numeric[FEATS + [TARGET]].replace([np.inf, -np.inf], np.nan)\n",
    "Xy = Xy.dropna(subset=[TARGET])         # asegúrate de tener target\n",
    "Xy = Xy.dropna(how=\"any\")               # si prefieres, aquí puedes ffill/bfill en lugar de drop"
   ]
  },
  {
   "cell_type": "code",
   "execution_count": 18,
   "id": "15967570",
   "metadata": {},
   "outputs": [
    {
     "name": "stdout",
     "output_type": "stream",
     "text": [
      "Filas tras limpieza: 82560 | #Features: 45 | Target: y_ghi_h6\n"
     ]
    }
   ],
   "source": [
    "const_cols = [c for c in FEATS if Xy[c].nunique(dropna=True) <= 1]\n",
    "if const_cols:\n",
    "    Xy = Xy.drop(columns=const_cols)\n",
    "    FEATS = [c for c in FEATS if c not in const_cols]\n",
    "    print(\"Quité columnas constantes:\", const_cols)\n",
    "\n",
    "print(f\"Filas tras limpieza: {len(Xy)} | #Features: {len(FEATS)} | Target: {TARGET}\")\n"
   ]
  },
  {
   "cell_type": "markdown",
   "id": "12e23437",
   "metadata": {},
   "source": [
    "## Split & Export"
   ]
  },
  {
   "cell_type": "code",
   "execution_count": 19,
   "id": "e802164f",
   "metadata": {},
   "outputs": [
    {
     "name": "stdout",
     "output_type": "stream",
     "text": [
      "Guardado splits para: y_ghi_h6\n",
      "   train: (57791, 46) val: (12385, 46) test: (12384, 46)\n"
     ]
    }
   ],
   "source": [
    "# %% Split cronológico 70/15/15 (train/val/test)\n",
    "n = len(Xy)\n",
    "i1 = int(n*0.70); i2 = int(n*0.85)\n",
    "train, val, test = Xy.iloc[:i1].copy(), Xy.iloc[i1:i2].copy(), Xy.iloc[i2:].copy()\n",
    "\n",
    "# %% Export\n",
    "OUT_ALL = OUT_INT / \"ground_features_v2.parquet\"\n",
    "Xy.to_parquet(OUT_ALL, engine=\"pyarrow\", compression=\"zstd\")\n",
    "\n",
    "# Export splits (útiles para modelado directo)\n",
    "Xy.to_parquet(OUT_INT / \"ground_features_v2.parquet\", engine=\"pyarrow\", compression=\"zstd\")\n",
    "train.to_parquet(OUT_PROC / f\"ground_train_h{H}.parquet\", engine=\"pyarrow\", compression=\"zstd\")\n",
    "val.to_parquet  (OUT_PROC / f\"ground_val_h{H}.parquet\",   engine=\"pyarrow\", compression=\"zstd\")\n",
    "test.to_parquet (OUT_PROC / f\"ground_test_h{H}.parquet\",  engine=\"pyarrow\", compression=\"zstd\")\n",
    "\n",
    "print(\"Guardado splits para:\", TARGET)\n",
    "print(\"   train:\", train.shape, \"val:\", val.shape, \"test:\", test.shape)"
   ]
  },
  {
   "cell_type": "markdown",
   "id": "5ae62328",
   "metadata": {},
   "source": [
    "## Sanity"
   ]
  },
  {
   "cell_type": "code",
   "execution_count": 20,
   "id": "ef917abc",
   "metadata": {},
   "outputs": [
    {
     "name": "stdout",
     "output_type": "stream",
     "text": [
      "\n",
      "Top 10 features correlacionadas con y_ghi_h6\n",
      "zenith                -0.857557\n",
      "ghi_cs                 0.857459\n",
      "ghi_qc_lag1            0.838078\n",
      "ghi_qc_lag2            0.816877\n",
      "ghi_qc_roll_mean_1h    0.810178\n",
      "hod_cos               -0.802457\n",
      "ghi_qc_lag3            0.795074\n",
      "ghi_qc_roll_std_1h     0.759086\n",
      "temp_c                 0.561917\n",
      "temp_c_lag1            0.532584\n",
      "Name: y_ghi_h6, dtype: float64\n"
     ]
    }
   ],
   "source": [
    "corrs = train[FEATS + [TARGET]].corr(method=\"spearman\", numeric_only=True)[TARGET] \\\n",
    "                              .drop(labels=[TARGET]).sort_values(key=np.abs, ascending=False)\n",
    "print(\"\\nTop 10 features correlacionadas con\", TARGET)\n",
    "print(corrs.head(10))"
   ]
  },
  {
   "cell_type": "markdown",
   "id": "b120a098",
   "metadata": {},
   "source": [
    "### Visualization"
   ]
  },
  {
   "cell_type": "code",
   "execution_count": 21,
   "id": "f60db164",
   "metadata": {},
   "outputs": [
    {
     "data": {
      "image/png": "[encoded data removed]",
      "text/plain": [
       "<Figure size 800x600 with 1 Axes>"
      ]
     },
     "metadata": {},
     "output_type": "display_data"
    }
   ],
   "source": [
    "import matplotlib.pyplot as plt\n",
    "topN = min(20, len(corrs))\n",
    "plt.figure(figsize=(8, max(4, 0.3*topN)))\n",
    "plt.barh(corrs.index[:topN][::-1], corrs.values[:topN][::-1])\n",
    "plt.title(f\"Top {topN} correlaciones (Spearman) con {TARGET}\")\n",
    "plt.xlabel(\"ρ_s\"); plt.grid(True, ls=\"--\", alpha=0.3)\n",
    "plt.tight_layout(); plt.show()"
   ]
  }
 ],
 "metadata": {
  "kernelspec": {
   "display_name": "e_ladino",
   "language": "python",
   "name": "python3"
  },
  "language_info": {
   "codemirror_mode": {
    "name": "ipython",
    "version": 3
   },
   "file_extension": ".py",
   "mimetype": "text/x-python",
   "name": "python",
   "nbconvert_exporter": "python",
   "pygments_lexer": "ipython3",
   "version": "3.12.11"
  }
 },
 "nbformat": 4,
 "nbformat_minor": 5
}
