{
 "cells": [
  {
   "cell_type": "markdown",
   "id": "7811bfe6",
   "metadata": {},
   "source": [
    "# Fusion baseline Model (GOES + Ground)"
   ]
  },
  {
   "cell_type": "markdown",
   "id": "616708f3",
   "metadata": {},
   "source": [
    "## Libraries"
   ]
  },
  {
   "cell_type": "code",
   "execution_count": 2,
   "id": "0a9e8c5b",
   "metadata": {},
   "outputs": [],
   "source": [
    "import numpy as np, pandas as pd\n",
    "from pathlib import Path\n",
    "from glob import glob\n",
    "import matplotlib.pyplot as plt\n",
    "from sklearn.ensemble import RandomForestRegressor\n",
    "from sklearn.metrics import mean_absolute_error, mean_squared_error, r2_score"
   ]
  },
  {
   "cell_type": "markdown",
   "id": "80442702",
   "metadata": {},
   "source": [
    "## Config"
   ]
  },
  {
   "cell_type": "code",
   "execution_count": 3,
   "id": "eae382d1",
   "metadata": {},
   "outputs": [],
   "source": [
    "ground_train = Path(\"../data_processed/ground_train_h6.parquet\")\n",
    "ground_val   = Path(\"../data_processed/ground_val_h6.parquet\")\n",
    "ground_test  = Path(\"../data_processed/ground_test_h6.parquet\")\n",
    "sat_pickles  = sorted(glob(\"../data_interim/goes_demo/datos_sateli.pkl\", recursive=True))  # p.ej. goes_demo/datos_sateli.pkl\n",
    "target_col   = \"y_k_h6\"\n",
    "resample_rule = \"10min\"\n",
    "channels = list(range(1,17))"
   ]
  },
  {
   "cell_type": "markdown",
   "id": "a3836198",
   "metadata": {},
   "source": [
    "## Data"
   ]
  },
  {
   "cell_type": "code",
   "execution_count": 4,
   "id": "d79e4c9d",
   "metadata": {},
   "outputs": [
    {
     "name": "stdout",
     "output_type": "stream",
     "text": [
      "Ground shapes: (57789, 41) (12384, 41) (12384, 41)\n"
     ]
    }
   ],
   "source": [
    "g_tr = pd.read_parquet(ground_train)\n",
    "g_va = pd.read_parquet(ground_val)\n",
    "g_te = pd.read_parquet(ground_test)\n",
    "\n",
    "# Asegurar índice UTC tz-aware\n",
    "for g in (g_tr, g_va, g_te):\n",
    "    idx = pd.to_datetime(g.index)\n",
    "    g.index = idx.tz_localize(\"UTC\") if idx.tz is None else idx.tz_convert(\"UTC\")\n",
    "\n",
    "print(\"Ground shapes:\", g_tr.shape, g_va.shape, g_te.shape)"
   ]
  },
  {
   "cell_type": "code",
   "execution_count": null,
   "id": "996216bd",
   "metadata": {},
   "outputs": [
    {
     "data": {
      "text/html": [
       "<div>\n",
       "<style scoped>\n",
       "    .dataframe tbody tr th:only-of-type {\n",
       "        vertical-align: middle;\n",
       "    }\n",
       "\n",
       "    .dataframe tbody tr th {\n",
       "        vertical-align: top;\n",
       "    }\n",
       "\n",
       "    .dataframe thead th {\n",
       "        text-align: right;\n",
       "    }\n",
       "</style>\n",
       "<table border=\"1\" class=\"dataframe\">\n",
       "  <thead>\n",
       "    <tr style=\"text-align: right;\">\n",
       "      <th></th>\n",
       "    </tr>\n",
       "  </thead>\n",
       "  <tbody>\n",
       "    <tr>\n",
       "      <th>2024-01-01 00:00:00+00:00</th>\n",
       "    </tr>\n",
       "    <tr>\n",
       "      <th>2024-01-01 00:10:00+00:00</th>\n",
       "    </tr>\n",
       "    <tr>\n",
       "      <th>2024-01-01 00:20:00+00:00</th>\n",
       "    </tr>\n",
       "    <tr>\n",
       "      <th>2024-01-01 00:30:00+00:00</th>\n",
       "    </tr>\n",
       "    <tr>\n",
       "      <th>2024-01-01 00:40:00+00:00</th>\n",
       "    </tr>\n",
       "  </tbody>\n",
       "</table>\n",
       "</div>"
      ],
      "text/plain": [
       "Empty DataFrame\n",
       "Columns: []\n",
       "Index: [2024-01-01 00:00:00+00:00, 2024-01-01 00:10:00+00:00, 2024-01-01 00:20:00+00:00, 2024-01-01 00:30:00+00:00, 2024-01-01 00:40:00+00:00]"
      ]
     },
     "execution_count": 16,
     "metadata": {},
     "output_type": "execute_result"
    }
   ],
   "source": [
    "sat_raw = pd.read_pickle(\"../data_interim/goes_demo/datos_sateli.pkl\")\n",
    "chan_cols = [c for c in sat_raw.columns if c.isdigit()] \n",
    "sat_feat = pd.DataFrame(index=sat_raw.index)"
   ]
  },
  {
   "cell_type": "code",
   "execution_count": 18,
   "id": "c1a0e1ac",
   "metadata": {},
   "outputs": [
    {
     "data": {
      "text/html": [
       "<div>\n",
       "<style scoped>\n",
       "    .dataframe tbody tr th:only-of-type {\n",
       "        vertical-align: middle;\n",
       "    }\n",
       "\n",
       "    .dataframe tbody tr th {\n",
       "        vertical-align: top;\n",
       "    }\n",
       "\n",
       "    .dataframe thead th {\n",
       "        text-align: right;\n",
       "    }\n",
       "</style>\n",
       "<table border=\"1\" class=\"dataframe\">\n",
       "  <thead>\n",
       "    <tr style=\"text-align: right;\">\n",
       "      <th></th>\n",
       "      <th>C01_mean</th>\n",
       "      <th>C01_std</th>\n",
       "      <th>C02_mean</th>\n",
       "      <th>C02_std</th>\n",
       "      <th>C03_mean</th>\n",
       "      <th>C03_std</th>\n",
       "      <th>C04_mean</th>\n",
       "      <th>C04_std</th>\n",
       "      <th>C05_mean</th>\n",
       "      <th>C05_std</th>\n",
       "      <th>...</th>\n",
       "      <th>C12_mean</th>\n",
       "      <th>C12_std</th>\n",
       "      <th>C13_mean</th>\n",
       "      <th>C13_std</th>\n",
       "      <th>C14_mean</th>\n",
       "      <th>C14_std</th>\n",
       "      <th>C15_mean</th>\n",
       "      <th>C15_std</th>\n",
       "      <th>C16_mean</th>\n",
       "      <th>C16_std</th>\n",
       "    </tr>\n",
       "  </thead>\n",
       "  <tbody>\n",
       "    <tr>\n",
       "      <th>2024-01-01 00:00:00+00:00</th>\n",
       "      <td>NaN</td>\n",
       "      <td>NaN</td>\n",
       "      <td>NaN</td>\n",
       "      <td>NaN</td>\n",
       "      <td>NaN</td>\n",
       "      <td>NaN</td>\n",
       "      <td>NaN</td>\n",
       "      <td>NaN</td>\n",
       "      <td>NaN</td>\n",
       "      <td>NaN</td>\n",
       "      <td>...</td>\n",
       "      <td>NaN</td>\n",
       "      <td>NaN</td>\n",
       "      <td>NaN</td>\n",
       "      <td>NaN</td>\n",
       "      <td>NaN</td>\n",
       "      <td>NaN</td>\n",
       "      <td>NaN</td>\n",
       "      <td>NaN</td>\n",
       "      <td>NaN</td>\n",
       "      <td>NaN</td>\n",
       "    </tr>\n",
       "    <tr>\n",
       "      <th>2024-01-01 00:10:00+00:00</th>\n",
       "      <td>NaN</td>\n",
       "      <td>NaN</td>\n",
       "      <td>NaN</td>\n",
       "      <td>NaN</td>\n",
       "      <td>NaN</td>\n",
       "      <td>NaN</td>\n",
       "      <td>NaN</td>\n",
       "      <td>NaN</td>\n",
       "      <td>NaN</td>\n",
       "      <td>NaN</td>\n",
       "      <td>...</td>\n",
       "      <td>NaN</td>\n",
       "      <td>NaN</td>\n",
       "      <td>NaN</td>\n",
       "      <td>NaN</td>\n",
       "      <td>NaN</td>\n",
       "      <td>NaN</td>\n",
       "      <td>NaN</td>\n",
       "      <td>NaN</td>\n",
       "      <td>NaN</td>\n",
       "      <td>NaN</td>\n",
       "    </tr>\n",
       "    <tr>\n",
       "      <th>2024-01-01 00:20:00+00:00</th>\n",
       "      <td>NaN</td>\n",
       "      <td>NaN</td>\n",
       "      <td>NaN</td>\n",
       "      <td>NaN</td>\n",
       "      <td>NaN</td>\n",
       "      <td>NaN</td>\n",
       "      <td>NaN</td>\n",
       "      <td>NaN</td>\n",
       "      <td>NaN</td>\n",
       "      <td>NaN</td>\n",
       "      <td>...</td>\n",
       "      <td>NaN</td>\n",
       "      <td>NaN</td>\n",
       "      <td>NaN</td>\n",
       "      <td>NaN</td>\n",
       "      <td>NaN</td>\n",
       "      <td>NaN</td>\n",
       "      <td>NaN</td>\n",
       "      <td>NaN</td>\n",
       "      <td>NaN</td>\n",
       "      <td>NaN</td>\n",
       "    </tr>\n",
       "    <tr>\n",
       "      <th>2024-01-01 00:30:00+00:00</th>\n",
       "      <td>NaN</td>\n",
       "      <td>NaN</td>\n",
       "      <td>NaN</td>\n",
       "      <td>NaN</td>\n",
       "      <td>NaN</td>\n",
       "      <td>NaN</td>\n",
       "      <td>NaN</td>\n",
       "      <td>NaN</td>\n",
       "      <td>NaN</td>\n",
       "      <td>NaN</td>\n",
       "      <td>...</td>\n",
       "      <td>NaN</td>\n",
       "      <td>NaN</td>\n",
       "      <td>NaN</td>\n",
       "      <td>NaN</td>\n",
       "      <td>NaN</td>\n",
       "      <td>NaN</td>\n",
       "      <td>NaN</td>\n",
       "      <td>NaN</td>\n",
       "      <td>NaN</td>\n",
       "      <td>NaN</td>\n",
       "    </tr>\n",
       "    <tr>\n",
       "      <th>2024-01-01 00:40:00+00:00</th>\n",
       "      <td>NaN</td>\n",
       "      <td>NaN</td>\n",
       "      <td>NaN</td>\n",
       "      <td>NaN</td>\n",
       "      <td>NaN</td>\n",
       "      <td>NaN</td>\n",
       "      <td>NaN</td>\n",
       "      <td>NaN</td>\n",
       "      <td>NaN</td>\n",
       "      <td>NaN</td>\n",
       "      <td>...</td>\n",
       "      <td>NaN</td>\n",
       "      <td>NaN</td>\n",
       "      <td>NaN</td>\n",
       "      <td>NaN</td>\n",
       "      <td>NaN</td>\n",
       "      <td>NaN</td>\n",
       "      <td>NaN</td>\n",
       "      <td>NaN</td>\n",
       "      <td>NaN</td>\n",
       "      <td>NaN</td>\n",
       "    </tr>\n",
       "  </tbody>\n",
       "</table>\n",
       "<p>5 rows × 32 columns</p>\n",
       "</div>"
      ],
      "text/plain": [
       "                           C01_mean  C01_std  C02_mean  C02_std  C03_mean  \\\n",
       "2024-01-01 00:00:00+00:00       NaN      NaN       NaN      NaN       NaN   \n",
       "2024-01-01 00:10:00+00:00       NaN      NaN       NaN      NaN       NaN   \n",
       "2024-01-01 00:20:00+00:00       NaN      NaN       NaN      NaN       NaN   \n",
       "2024-01-01 00:30:00+00:00       NaN      NaN       NaN      NaN       NaN   \n",
       "2024-01-01 00:40:00+00:00       NaN      NaN       NaN      NaN       NaN   \n",
       "\n",
       "                           C03_std  C04_mean  C04_std  C05_mean  C05_std  ...  \\\n",
       "2024-01-01 00:00:00+00:00      NaN       NaN      NaN       NaN      NaN  ...   \n",
       "2024-01-01 00:10:00+00:00      NaN       NaN      NaN       NaN      NaN  ...   \n",
       "2024-01-01 00:20:00+00:00      NaN       NaN      NaN       NaN      NaN  ...   \n",
       "2024-01-01 00:30:00+00:00      NaN       NaN      NaN       NaN      NaN  ...   \n",
       "2024-01-01 00:40:00+00:00      NaN       NaN      NaN       NaN      NaN  ...   \n",
       "\n",
       "                           C12_mean  C12_std  C13_mean  C13_std  C14_mean  \\\n",
       "2024-01-01 00:00:00+00:00       NaN      NaN       NaN      NaN       NaN   \n",
       "2024-01-01 00:10:00+00:00       NaN      NaN       NaN      NaN       NaN   \n",
       "2024-01-01 00:20:00+00:00       NaN      NaN       NaN      NaN       NaN   \n",
       "2024-01-01 00:30:00+00:00       NaN      NaN       NaN      NaN       NaN   \n",
       "2024-01-01 00:40:00+00:00       NaN      NaN       NaN      NaN       NaN   \n",
       "\n",
       "                           C14_std  C15_mean  C15_std  C16_mean  C16_std  \n",
       "2024-01-01 00:00:00+00:00      NaN       NaN      NaN       NaN      NaN  \n",
       "2024-01-01 00:10:00+00:00      NaN       NaN      NaN       NaN      NaN  \n",
       "2024-01-01 00:20:00+00:00      NaN       NaN      NaN       NaN      NaN  \n",
       "2024-01-01 00:30:00+00:00      NaN       NaN      NaN       NaN      NaN  \n",
       "2024-01-01 00:40:00+00:00      NaN       NaN      NaN       NaN      NaN  \n",
       "\n",
       "[5 rows x 32 columns]"
      ]
     },
     "execution_count": 18,
     "metadata": {},
     "output_type": "execute_result"
    }
   ],
   "source": [
    "for c in chan_cols:\n",
    "    sat_feat[f\"C{int(c):02d}_mean\"] = sat_raw[c].apply(lambda a: np.nanmean(a) if isinstance(a, np.ndarray) else np.nan)\n",
    "    sat_feat[f\"C{int(c):02d}_std\"]  = sat_raw[c].apply(lambda a: np.nanstd(a)  if isinstance(a, np.ndarray) else np.nan)\n",
    "sat_feat.head()"
   ]
  },
  {
   "cell_type": "code",
   "execution_count": 12,
   "id": "d1938607",
   "metadata": {},
   "outputs": [
    {
     "data": {
      "text/plain": [
       "1     52704\n",
       "2     52704\n",
       "3     52704\n",
       "4     52704\n",
       "5     52704\n",
       "6     52704\n",
       "7     52704\n",
       "8     52704\n",
       "9     52704\n",
       "10    52704\n",
       "11    52704\n",
       "12    52704\n",
       "13    52704\n",
       "14    52704\n",
       "15    52704\n",
       "16    52704\n",
       "dtype: int64"
      ]
     },
     "execution_count": 12,
     "metadata": {},
     "output_type": "execute_result"
    }
   ],
   "source": [
    "sat.isna().sum()"
   ]
  },
  {
   "cell_type": "markdown",
   "id": "f6152f1f",
   "metadata": {},
   "source": [
    "# Processing"
   ]
  },
  {
   "cell_type": "code",
   "execution_count": 6,
   "id": "ff4c891a",
   "metadata": {},
   "outputs": [
    {
     "name": "stdout",
     "output_type": "stream",
     "text": [
      "Sat features shape: (52704, 0)\n"
     ]
    }
   ],
   "source": [
    "rows, times = [], []\n",
    "for ts, row in sat.iterrows():\n",
    "    out = {}\n",
    "    for c in channels:\n",
    "        key = f\"{c}\"\n",
    "        if key in row and isinstance(row[key], (np.ndarray, list)):\n",
    "            a = np.asarray(row[key], dtype=\"float32\")\n",
    "            if a.ndim != 2: \n",
    "                continue\n",
    "            m = float(np.nanmean(a))\n",
    "            s = float(np.nanstd(a))\n",
    "            p10 = float(np.nanpercentile(a, 10))\n",
    "            p50 = float(np.nanpercentile(a, 50))\n",
    "            p90 = float(np.nanpercentile(a, 90))\n",
    "            gx, gy = np.gradient(np.nan_to_num(a, nan=m))\n",
    "            gmean = float(np.mean(np.hypot(gx, gy)))\n",
    "            out.update({\n",
    "                f\"C{c:02d}_mean\": m, f\"C{c:02d}_std\": s,\n",
    "                f\"C{c:02d}_p10\": p10, f\"C{c:02d}_p50\": p50, f\"C{c:02d}_p90\": p90,\n",
    "                f\"C{c:02d}_gmean\": gmean\n",
    "            })\n",
    "    rows.append(out); times.append(ts)\n",
    "\n",
    "sat_feat = pd.DataFrame(rows, index=pd.DatetimeIndex(times, tz=\"UTC\")).sort_index()\n",
    "sat_feat = sat_feat.resample(resample_rule).mean()\n",
    "print(\"Sat features shape:\", sat_feat.shape)"
   ]
  },
  {
   "cell_type": "code",
   "execution_count": 7,
   "id": "c03cddaa",
   "metadata": {},
   "outputs": [
    {
     "name": "stdout",
     "output_type": "stream",
     "text": [
      "Joined shapes — train: (40344, 40) val: (12360, 40) test: (0, 40)\n"
     ]
    }
   ],
   "source": [
    "# Train\n",
    "df_tr = g_tr.join(sat_feat, how=\"inner\")\n",
    "df_tr = df_tr.dropna(subset=[target_col])\n",
    "ytr = df_tr[target_col].astype(\"float32\")\n",
    "Xtr = df_tr.drop(columns=[c for c in df_tr.columns if c.startswith(\"y_\")]).select_dtypes(include=[np.number]).astype(\"float32\")\n",
    "\n",
    "# Val\n",
    "df_va = g_va.join(sat_feat, how=\"inner\")\n",
    "df_va = df_va.dropna(subset=[target_col])\n",
    "yva = df_va[target_col].astype(\"float32\")\n",
    "Xva = df_va.drop(columns=[c for c in df_va.columns if c.startswith(\"y_\")]).select_dtypes(include=[np.number]).astype(\"float32\")\n",
    "\n",
    "# Test\n",
    "df_te = g_te.join(sat_feat, how=\"inner\")\n",
    "df_te = df_te.dropna(subset=[target_col])\n",
    "yte = df_te[target_col].astype(\"float32\")\n",
    "Xte = df_te.drop(columns=[c for c in df_te.columns if c.startswith(\"y_\")]).select_dtypes(include=[np.number]).astype(\"float32\")\n",
    "\n",
    "print(\"Joined shapes —\",\n",
    "      \"train:\", Xtr.shape, \"val:\", Xva.shape, \"test:\", Xte.shape)"
   ]
  },
  {
   "cell_type": "markdown",
   "id": "36a96ac8",
   "metadata": {},
   "source": [
    "## Baseline"
   ]
  },
  {
   "cell_type": "code",
   "execution_count": 9,
   "id": "b7b6ee3e",
   "metadata": {},
   "outputs": [
    {
     "ename": "ValueError",
     "evalue": "Found array with 0 sample(s) (shape=(0,)) while a minimum of 1 is required.",
     "output_type": "error",
     "traceback": [
      "\u001b[31m---------------------------------------------------------------------------\u001b[39m",
      "\u001b[31mValueError\u001b[39m                                Traceback (most recent call last)",
      "\u001b[36mCell\u001b[39m\u001b[36m \u001b[39m\u001b[32mIn[9]\u001b[39m\u001b[32m, line 7\u001b[39m\n\u001b[32m      4\u001b[39m     yhat_base = pd.Series(np.median(ytr), index=yte.index)\n\u001b[32m      6\u001b[39m rmse = \u001b[38;5;28;01mlambda\u001b[39;00m a,b: mean_squared_error(a,b)\n\u001b[32m----> \u001b[39m\u001b[32m7\u001b[39m \u001b[38;5;28mprint\u001b[39m(\u001b[33m\"\u001b[39m\u001b[33mBaseline  RMSE:\u001b[39m\u001b[33m\"\u001b[39m, \u001b[43mrmse\u001b[49m\u001b[43m(\u001b[49m\u001b[43myte\u001b[49m\u001b[43m,\u001b[49m\u001b[43m \u001b[49m\u001b[43myhat_base\u001b[49m\u001b[43m)\u001b[49m, \u001b[33m\"\u001b[39m\u001b[33m MAE:\u001b[39m\u001b[33m\"\u001b[39m, mean_absolute_error(yte, yhat_base))\n",
      "\u001b[36mCell\u001b[39m\u001b[36m \u001b[39m\u001b[32mIn[9]\u001b[39m\u001b[32m, line 6\u001b[39m, in \u001b[36m<lambda>\u001b[39m\u001b[34m(a, b)\u001b[39m\n\u001b[32m      3\u001b[39m \u001b[38;5;28;01melse\u001b[39;00m:\n\u001b[32m      4\u001b[39m     yhat_base = pd.Series(np.median(ytr), index=yte.index)\n\u001b[32m----> \u001b[39m\u001b[32m6\u001b[39m rmse = \u001b[38;5;28;01mlambda\u001b[39;00m a,b: \u001b[43mmean_squared_error\u001b[49m\u001b[43m(\u001b[49m\u001b[43ma\u001b[49m\u001b[43m,\u001b[49m\u001b[43mb\u001b[49m\u001b[43m)\u001b[49m\n\u001b[32m      7\u001b[39m \u001b[38;5;28mprint\u001b[39m(\u001b[33m\"\u001b[39m\u001b[33mBaseline  RMSE:\u001b[39m\u001b[33m\"\u001b[39m, rmse(yte, yhat_base), \u001b[33m\"\u001b[39m\u001b[33m MAE:\u001b[39m\u001b[33m\"\u001b[39m, mean_absolute_error(yte, yhat_base))\n",
      "\u001b[36mFile \u001b[39m\u001b[32m~/miniconda3/envs/e_ladino/lib/python3.12/site-packages/sklearn/utils/_param_validation.py:218\u001b[39m, in \u001b[36mvalidate_params.<locals>.decorator.<locals>.wrapper\u001b[39m\u001b[34m(*args, **kwargs)\u001b[39m\n\u001b[32m    212\u001b[39m \u001b[38;5;28;01mtry\u001b[39;00m:\n\u001b[32m    213\u001b[39m     \u001b[38;5;28;01mwith\u001b[39;00m config_context(\n\u001b[32m    214\u001b[39m         skip_parameter_validation=(\n\u001b[32m    215\u001b[39m             prefer_skip_nested_validation \u001b[38;5;129;01mor\u001b[39;00m global_skip_validation\n\u001b[32m    216\u001b[39m         )\n\u001b[32m    217\u001b[39m     ):\n\u001b[32m--> \u001b[39m\u001b[32m218\u001b[39m         \u001b[38;5;28;01mreturn\u001b[39;00m \u001b[43mfunc\u001b[49m\u001b[43m(\u001b[49m\u001b[43m*\u001b[49m\u001b[43margs\u001b[49m\u001b[43m,\u001b[49m\u001b[43m \u001b[49m\u001b[43m*\u001b[49m\u001b[43m*\u001b[49m\u001b[43mkwargs\u001b[49m\u001b[43m)\u001b[49m\n\u001b[32m    219\u001b[39m \u001b[38;5;28;01mexcept\u001b[39;00m InvalidParameterError \u001b[38;5;28;01mas\u001b[39;00m e:\n\u001b[32m    220\u001b[39m     \u001b[38;5;66;03m# When the function is just a wrapper around an estimator, we allow\u001b[39;00m\n\u001b[32m    221\u001b[39m     \u001b[38;5;66;03m# the function to delegate validation to the estimator, but we replace\u001b[39;00m\n\u001b[32m    222\u001b[39m     \u001b[38;5;66;03m# the name of the estimator by the name of the function in the error\u001b[39;00m\n\u001b[32m    223\u001b[39m     \u001b[38;5;66;03m# message to avoid confusion.\u001b[39;00m\n\u001b[32m    224\u001b[39m     msg = re.sub(\n\u001b[32m    225\u001b[39m         \u001b[33mr\u001b[39m\u001b[33m\"\u001b[39m\u001b[33mparameter of \u001b[39m\u001b[33m\\\u001b[39m\u001b[33mw+ must be\u001b[39m\u001b[33m\"\u001b[39m,\n\u001b[32m    226\u001b[39m         \u001b[33mf\u001b[39m\u001b[33m\"\u001b[39m\u001b[33mparameter of \u001b[39m\u001b[38;5;132;01m{\u001b[39;00mfunc.\u001b[34m__qualname__\u001b[39m\u001b[38;5;132;01m}\u001b[39;00m\u001b[33m must be\u001b[39m\u001b[33m\"\u001b[39m,\n\u001b[32m    227\u001b[39m         \u001b[38;5;28mstr\u001b[39m(e),\n\u001b[32m    228\u001b[39m     )\n",
      "\u001b[36mFile \u001b[39m\u001b[32m~/miniconda3/envs/e_ladino/lib/python3.12/site-packages/sklearn/metrics/_regression.py:580\u001b[39m, in \u001b[36mmean_squared_error\u001b[39m\u001b[34m(y_true, y_pred, sample_weight, multioutput)\u001b[39m\n\u001b[32m    530\u001b[39m \u001b[38;5;250m\u001b[39m\u001b[33;03m\"\"\"Mean squared error regression loss.\u001b[39;00m\n\u001b[32m    531\u001b[39m \n\u001b[32m    532\u001b[39m \u001b[33;03mRead more in the :ref:`User Guide <mean_squared_error>`.\u001b[39;00m\n\u001b[32m   (...)\u001b[39m\u001b[32m    576\u001b[39m \u001b[33;03m0.825...\u001b[39;00m\n\u001b[32m    577\u001b[39m \u001b[33;03m\"\"\"\u001b[39;00m\n\u001b[32m    578\u001b[39m xp, _ = get_namespace(y_true, y_pred, sample_weight, multioutput)\n\u001b[32m    579\u001b[39m _, y_true, y_pred, sample_weight, multioutput = (\n\u001b[32m--> \u001b[39m\u001b[32m580\u001b[39m     \u001b[43m_check_reg_targets_with_floating_dtype\u001b[49m\u001b[43m(\u001b[49m\n\u001b[32m    581\u001b[39m \u001b[43m        \u001b[49m\u001b[43my_true\u001b[49m\u001b[43m,\u001b[49m\u001b[43m \u001b[49m\u001b[43my_pred\u001b[49m\u001b[43m,\u001b[49m\u001b[43m \u001b[49m\u001b[43msample_weight\u001b[49m\u001b[43m,\u001b[49m\u001b[43m \u001b[49m\u001b[43mmultioutput\u001b[49m\u001b[43m,\u001b[49m\u001b[43m \u001b[49m\u001b[43mxp\u001b[49m\u001b[43m=\u001b[49m\u001b[43mxp\u001b[49m\n\u001b[32m    582\u001b[39m \u001b[43m    \u001b[49m\u001b[43m)\u001b[49m\n\u001b[32m    583\u001b[39m )\n\u001b[32m    584\u001b[39m output_errors = _average((y_true - y_pred) ** \u001b[32m2\u001b[39m, axis=\u001b[32m0\u001b[39m, weights=sample_weight)\n\u001b[32m    586\u001b[39m \u001b[38;5;28;01mif\u001b[39;00m \u001b[38;5;28misinstance\u001b[39m(multioutput, \u001b[38;5;28mstr\u001b[39m):\n",
      "\u001b[36mFile \u001b[39m\u001b[32m~/miniconda3/envs/e_ladino/lib/python3.12/site-packages/sklearn/metrics/_regression.py:209\u001b[39m, in \u001b[36m_check_reg_targets_with_floating_dtype\u001b[39m\u001b[34m(y_true, y_pred, sample_weight, multioutput, xp)\u001b[39m\n\u001b[32m    160\u001b[39m \u001b[38;5;250m\u001b[39m\u001b[33;03m\"\"\"Ensures y_true, y_pred, and sample_weight correspond to same regression task.\u001b[39;00m\n\u001b[32m    161\u001b[39m \n\u001b[32m    162\u001b[39m \u001b[33;03mExtends `_check_reg_targets` by automatically selecting a suitable floating-point\u001b[39;00m\n\u001b[32m   (...)\u001b[39m\u001b[32m    205\u001b[39m \u001b[33;03m    correct keyword.\u001b[39;00m\n\u001b[32m    206\u001b[39m \u001b[33;03m\"\"\"\u001b[39;00m\n\u001b[32m    207\u001b[39m dtype_name = _find_matching_floating_dtype(y_true, y_pred, sample_weight, xp=xp)\n\u001b[32m--> \u001b[39m\u001b[32m209\u001b[39m y_type, y_true, y_pred, sample_weight, multioutput = \u001b[43m_check_reg_targets\u001b[49m\u001b[43m(\u001b[49m\n\u001b[32m    210\u001b[39m \u001b[43m    \u001b[49m\u001b[43my_true\u001b[49m\u001b[43m,\u001b[49m\u001b[43m \u001b[49m\u001b[43my_pred\u001b[49m\u001b[43m,\u001b[49m\u001b[43m \u001b[49m\u001b[43msample_weight\u001b[49m\u001b[43m,\u001b[49m\u001b[43m \u001b[49m\u001b[43mmultioutput\u001b[49m\u001b[43m,\u001b[49m\u001b[43m \u001b[49m\u001b[43mdtype\u001b[49m\u001b[43m=\u001b[49m\u001b[43mdtype_name\u001b[49m\u001b[43m,\u001b[49m\u001b[43m \u001b[49m\u001b[43mxp\u001b[49m\u001b[43m=\u001b[49m\u001b[43mxp\u001b[49m\n\u001b[32m    211\u001b[39m \u001b[43m\u001b[49m\u001b[43m)\u001b[49m\n\u001b[32m    213\u001b[39m \u001b[38;5;28;01mreturn\u001b[39;00m y_type, y_true, y_pred, sample_weight, multioutput\n",
      "\u001b[36mFile \u001b[39m\u001b[32m~/miniconda3/envs/e_ladino/lib/python3.12/site-packages/sklearn/metrics/_regression.py:115\u001b[39m, in \u001b[36m_check_reg_targets\u001b[39m\u001b[34m(y_true, y_pred, sample_weight, multioutput, dtype, xp)\u001b[39m\n\u001b[32m    112\u001b[39m xp, _ = get_namespace(y_true, y_pred, multioutput, xp=xp)\n\u001b[32m    114\u001b[39m check_consistent_length(y_true, y_pred, sample_weight)\n\u001b[32m--> \u001b[39m\u001b[32m115\u001b[39m y_true = \u001b[43mcheck_array\u001b[49m\u001b[43m(\u001b[49m\u001b[43my_true\u001b[49m\u001b[43m,\u001b[49m\u001b[43m \u001b[49m\u001b[43mensure_2d\u001b[49m\u001b[43m=\u001b[49m\u001b[38;5;28;43;01mFalse\u001b[39;49;00m\u001b[43m,\u001b[49m\u001b[43m \u001b[49m\u001b[43mdtype\u001b[49m\u001b[43m=\u001b[49m\u001b[43mdtype\u001b[49m\u001b[43m)\u001b[49m\n\u001b[32m    116\u001b[39m y_pred = check_array(y_pred, ensure_2d=\u001b[38;5;28;01mFalse\u001b[39;00m, dtype=dtype)\n\u001b[32m    117\u001b[39m \u001b[38;5;28;01mif\u001b[39;00m sample_weight \u001b[38;5;129;01mis\u001b[39;00m \u001b[38;5;129;01mnot\u001b[39;00m \u001b[38;5;28;01mNone\u001b[39;00m:\n",
      "\u001b[36mFile \u001b[39m\u001b[32m~/miniconda3/envs/e_ladino/lib/python3.12/site-packages/sklearn/utils/validation.py:1128\u001b[39m, in \u001b[36mcheck_array\u001b[39m\u001b[34m(array, accept_sparse, accept_large_sparse, dtype, order, copy, force_writeable, force_all_finite, ensure_all_finite, ensure_non_negative, ensure_2d, allow_nd, ensure_min_samples, ensure_min_features, estimator, input_name)\u001b[39m\n\u001b[32m   1126\u001b[39m     n_samples = _num_samples(array)\n\u001b[32m   1127\u001b[39m     \u001b[38;5;28;01mif\u001b[39;00m n_samples < ensure_min_samples:\n\u001b[32m-> \u001b[39m\u001b[32m1128\u001b[39m         \u001b[38;5;28;01mraise\u001b[39;00m \u001b[38;5;167;01mValueError\u001b[39;00m(\n\u001b[32m   1129\u001b[39m             \u001b[33m\"\u001b[39m\u001b[33mFound array with \u001b[39m\u001b[38;5;132;01m%d\u001b[39;00m\u001b[33m sample(s) (shape=\u001b[39m\u001b[38;5;132;01m%s\u001b[39;00m\u001b[33m) while a\u001b[39m\u001b[33m\"\u001b[39m\n\u001b[32m   1130\u001b[39m             \u001b[33m\"\u001b[39m\u001b[33m minimum of \u001b[39m\u001b[38;5;132;01m%d\u001b[39;00m\u001b[33m is required\u001b[39m\u001b[38;5;132;01m%s\u001b[39;00m\u001b[33m.\u001b[39m\u001b[33m\"\u001b[39m\n\u001b[32m   1131\u001b[39m             % (n_samples, array.shape, ensure_min_samples, context)\n\u001b[32m   1132\u001b[39m         )\n\u001b[32m   1134\u001b[39m \u001b[38;5;28;01mif\u001b[39;00m ensure_min_features > \u001b[32m0\u001b[39m \u001b[38;5;129;01mand\u001b[39;00m array.ndim == \u001b[32m2\u001b[39m:\n\u001b[32m   1135\u001b[39m     n_features = array.shape[\u001b[32m1\u001b[39m]\n",
      "\u001b[31mValueError\u001b[39m: Found array with 0 sample(s) (shape=(0,)) while a minimum of 1 is required."
     ]
    }
   ],
   "source": [
    "if \"k_ghi_lag1\" in Xte.columns:\n",
    "    yhat_base = Xte[\"k_ghi_lag1\"].clip(0, 2.0)\n",
    "else:\n",
    "    yhat_base = pd.Series(np.median(ytr), index=yte.index)\n",
    "\n",
    "rmse = lambda a,b: mean_squared_error(a,b)\n",
    "print(\"Baseline  RMSE:\", rmse(yte, yhat_base), \" MAE:\", mean_absolute_error(yte, yhat_base))"
   ]
  },
  {
   "cell_type": "code",
   "execution_count": null,
   "id": "63ff84ea",
   "metadata": {},
   "outputs": [],
   "source": [
    "# (Random Forest simple)\n",
    "rf = RandomForestRegressor(\n",
    "    n_estimators=400,\n",
    "    random_state=42,\n",
    "    n_jobs=-1\n",
    ")\n",
    "rf.fit(Xtr, ytr)\n",
    "\n",
    "yhat_va = pd.Series(rf.predict(Xva), index=Xva.index)\n",
    "yhat_te = pd.Series(rf.predict(Xte), index=Xte.index)\n",
    "\n",
    "print(\"Val   RMSE:\", rmse(yva, yhat_va), \" MAE:\", mean_absolute_error(yva, yhat_va), \" R2:\", r2_score(yva, yhat_va))\n",
    "print(\"Test  RMSE:\", rmse(yte, yhat_te), \" MAE:\", mean_absolute_error(yte, yhat_te), \" R2:\", r2_score(yte, yhat_te))\n",
    "\n",
    "skill = 1 - (rmse(yte, yhat_te) / rmse(yte, yhat_base))\n",
    "print(f\"Skill vs baseline (RMSE): {skill:.3f}\")"
   ]
  },
  {
   "cell_type": "markdown",
   "id": "f4973bfe",
   "metadata": {},
   "source": [
    "## Plots"
   ]
  },
  {
   "cell_type": "code",
   "execution_count": null,
   "id": "45a35a3d",
   "metadata": {},
   "outputs": [],
   "source": [
    "win = slice(0, min(400, len(yte)))\n",
    "plt.figure(figsize=(10,3))\n",
    "plt.plot(yte.iloc[win], label=\"truth\", lw=1.2)\n",
    "plt.plot(yhat_te.iloc[win], label=\"model\", lw=1.0)\n",
    "plt.plot(yhat_base.iloc[win], label=\"baseline\", lw=1.0, alpha=0.7)\n",
    "plt.title(\"Test — truth vs model vs baseline\")\n",
    "plt.grid(True, ls=\"--\", alpha=0.3); plt.legend(); plt.tight_layout(); plt.show()"
   ]
  },
  {
   "cell_type": "markdown",
   "id": "d8f7f304",
   "metadata": {},
   "source": [
    "np.random.seed(0)\n",
    "feat_names = Xtr.columns.tolist()\n",
    "base_rmse = rmse(yte, yhat_te)\n",
    "imp = []\n",
    "sub = slice(0, min(3000, len(Xte)))\n",
    "for col in feat_names:\n",
    "    Xp = Xte.copy()\n",
    "    Xp[col] = np.random.permutation(Xp[col].values)\n",
    "    imp.append(rmse(yte.iloc[sub], model.predict(Xp)[sub]) - base_rmse)\n",
    "imp = np.array(imp)\n",
    "top = np.argsort(imp)[::-1][:15]\n",
    "\n",
    "plt.figure(figsize=(8,5))\n",
    "plt.barh([feat_names[i] for i in top][::-1], imp[top][::-1])\n",
    "plt.title(\"Permutation importance (ΔRMSE) — top 15\")\n",
    "plt.tight_layout(); plt.show()\n"
   ]
  },
  {
   "cell_type": "markdown",
   "id": "b6a2266e",
   "metadata": {},
   "source": [
    "### Importance"
   ]
  },
  {
   "cell_type": "code",
   "execution_count": null,
   "id": "246e4223",
   "metadata": {},
   "outputs": [],
   "source": [
    "imp = pd.Series(rf.feature_importances_, index=Xtr.columns).sort_values(ascending=False).head(20)\n",
    "imp.plot(kind=\"barh\", figsize=(6,6)); plt.gca().invert_yaxis()\n",
    "plt.title(\"Feature importance (RF) — top 20\"); plt.tight_layout(); plt.show()"
   ]
  },
  {
   "cell_type": "markdown",
   "id": "6508d000",
   "metadata": {},
   "source": [
    "## Export"
   ]
  },
  {
   "cell_type": "code",
   "execution_count": null,
   "id": "816bebd5",
   "metadata": {},
   "outputs": [],
   "source": [
    "# out_dir = Path(\"../data_interim/fusion_ml\")\n",
    "# out_dir.mkdir(parents=True, exist_ok=True)\n",
    "# pd.DataFrame({\"y_true\": yte, \"y_model\": yhat_te, \"y_base\": yhat_base}).to_parquet(out_dir/\"test_preds.parquet\")\n",
    "# Xtr.columns.to_series().to_csv(out_dir/\"feature_columns.csv\", index=False)\n",
    "# print(\"Saved outputs in:\", out_dir)"
   ]
  }
 ],
 "metadata": {
  "kernelspec": {
   "display_name": "e_ladino",
   "language": "python",
   "name": "python3"
  },
  "language_info": {
   "codemirror_mode": {
    "name": "ipython",
    "version": 3
   },
   "file_extension": ".py",
   "mimetype": "text/x-python",
   "name": "python",
   "nbconvert_exporter": "python",
   "pygments_lexer": "ipython3",
   "version": "3.12.11"
  }
 },
 "nbformat": 4,
 "nbformat_minor": 5
}
