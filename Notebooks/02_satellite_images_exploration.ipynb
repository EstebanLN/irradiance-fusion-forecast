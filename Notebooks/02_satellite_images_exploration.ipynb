{
 "cells": [
  {
   "cell_type": "markdown",
   "id": "595329a7",
   "metadata": {},
   "source": [
    "# Data Exploration"
   ]
  },
  {
   "cell_type": "markdown",
   "id": "bf333175",
   "metadata": {},
   "source": [
    "## Overview\n",
    "This notebook performs data exploration and preprocessing for GOES images. The workflow includes data loading, quality control, temporal alignment."
   ]
  },
  {
   "cell_type": "markdown",
   "id": "4f3a523b",
   "metadata": {},
   "source": [
    "### Libraries"
   ]
  },
  {
   "cell_type": "code",
   "execution_count": null,
   "id": "6914473e",
   "metadata": {},
   "outputs": [],
   "source": [
    "from glob import glob\n",
    "from pathlib import Path\n",
    "import numpy as np\n",
    "import pandas as pd\n",
    "import xarray as xr\n",
    "import matplotlib.pyplot as plt\n",
    "import cartopy.crs as ccrs\n",
    "import cartopy.feature as cfeature\n",
    "\n",
    "import pyproj\n",
    "from scipy.ndimage import zoom"
   ]
  },
  {
   "cell_type": "markdown",
   "id": "da9ce7e6",
   "metadata": {},
   "source": [
    "### Parameters"
   ]
  },
  {
   "cell_type": "code",
   "execution_count": null,
   "id": "53d3b654",
   "metadata": {},
   "outputs": [],
   "source": [
    "LON, LAT = -74.0659, 4.6043   # Uniandes\n",
    "IN_SIZE  = 224                # recorte n×n (par)\n",
    "OUT_SIZE = 32                 # reescala final\n",
    "CHANNELS = range(1, 17)       # C01..C16\n",
    "\n",
    "FILES = sorted(glob(\"../data_raw/datos_GOES/OR_ABI-L2-MCMIPF-M6_G16_*.nc\"))# [:200]  \n",
    "OUT_DIR = Path(\"../data_interim/goes_dataset\")\n",
    "OUT_DIR.mkdir(parents=True, exist_ok=True)"
   ]
  },
  {
   "cell_type": "markdown",
   "id": "8f3a5309",
   "metadata": {},
   "source": [
    "### Functions"
   ]
  },
  {
   "cell_type": "code",
   "execution_count": null,
   "id": "c895a3aa",
   "metadata": {},
   "outputs": [],
   "source": [
    "def ensure_utc(ts_like):\n",
    "    \"\"\"Devuelve Timestamp tz-aware en UTC.\"\"\"\n",
    "    ts = pd.Timestamp(ts_like)\n",
    "    return ts.tz_localize(\"UTC\") if ts.tz is None else ts.tz_convert(\"UTC\")\n",
    "\n",
    "def resize_32(a):\n",
    "    \"\"\"Reescala a 32x32.\"\"\"\n",
    "    sy = OUT_SIZE / a.shape[0]\n",
    "    sx = OUT_SIZE / a.shape[1]\n",
    "    return zoom(a, (sy, sx), order=1).astype(\"float32\")\n",
    "\n",
    "def normalize(a, ch):\n",
    "    \"\"\"Normaliza: C01 visible → [0,1]; IR (180-330 K) → [0,1].\"\"\"\n",
    "    a = a.astype(\"float32\")\n",
    "    if ch == 1:\n",
    "        return np.clip(a, 0, 1)\n",
    "    return (np.clip(a, 180, 330) - 180) / 150.0\n",
    "\n",
    "def lonlat_to_geos_xy(ds, lon, lat):\n",
    "    \"\"\"(lon,lat) → (Xc,Yc).\"\"\"\n",
    "    gip   = ds[\"goes_imager_projection\"]\n",
    "    h     = float(gip.perspective_point_height)\n",
    "    lon_0 = float(gip.longitude_of_projection_origin)\n",
    "    sweep = str(gip.sweep_angle_axis)\n",
    "    geos  = pyproj.CRS.from_proj4(f\"+proj=geos +h={h} +lon_0={lon_0} +sweep={sweep} +ellps=WGS84\")\n",
    "    wgs   = pyproj.CRS.from_epsg(4326)\n",
    "    P     = pyproj.Transformer.from_crs(wgs, geos, always_xy=True)\n",
    "    return P.transform(lon, lat)  # (Xc, Yc)"
   ]
  },
  {
   "cell_type": "markdown",
   "id": "787dff08",
   "metadata": {},
   "source": [
    "### Processing"
   ]
  },
  {
   "cell_type": "code",
   "execution_count": null,
   "id": "c1210641",
   "metadata": {},
   "outputs": [],
   "source": [
    "rows_patches = []   # cada fila: {'time': ts, '1': arr32, ..., '16': arr32}\n",
    "rows_features = []  # cada fila: {'time': ts, 'C01_mean':..., 'C01_std':..., ...}\n",
    "\n",
    "for nc_path in FILES:\n",
    "    ds = xr.open_dataset(nc_path)\n",
    "\n",
    "    # Ejes x,y (rad) → metros\n",
    "    sat_h = float(ds[\"goes_imager_projection\"].perspective_point_height)\n",
    "    x = ds[\"x\"].values * sat_h\n",
    "    y = ds[\"y\"].values * sat_h\n",
    "\n",
    "    # Timestamp del archivo\n",
    "    ts_attr = (\n",
    "        ds.attrs.get(\"time_coverage_start\")\n",
    "        or ds.attrs.get(\"t\")\n",
    "        or next((ds[v].attrs.get(\"time_coverage_start\")\n",
    "                    for v in ds.data_vars if \"time_coverage_start\" in ds[v].attrs), None)\n",
    "    )\n",
    "    if ts_attr is None:\n",
    "        ds.close()\n",
    "        continue\n",
    "    ts = ensure_utc(ts_attr)\n",
    "\n",
    "    # Centro ROI → índices más cercanos\n",
    "    Xc, Yc = lonlat_to_geos_xy(ds, LON, LAT)\n",
    "    ix = int(np.argmin((x - Xc)**2))\n",
    "    iy = int(np.argmin((y - Yc)**2))\n",
    "\n",
    "    half = IN_SIZE // 2\n",
    "    xs = slice(max(ix-half, 0), min(ix+half, x.size))\n",
    "    ys = slice(max(iy-half, 0), min(iy+half, y.size))\n",
    "\n",
    "    # Extrae canales: recorta, pad si toca borde, reescala y normaliza\n",
    "    chan_row = {}\n",
    "    feat_row = {}\n",
    "    for ch in CHANNELS:\n",
    "        var = f\"CMI_C{ch:02d}\"\n",
    "        if var not in ds:\n",
    "            arr32 = np.full((OUT_SIZE, OUT_SIZE), np.nan, np.float32)\n",
    "            chan_row[str(ch)] = arr32\n",
    "            feat_row[f\"C{ch:02d}_mean\"] = np.nan\n",
    "            feat_row[f\"C{ch:02d}_std\"]  = np.nan\n",
    "            continue\n",
    "\n",
    "        patch = ds[var].isel(x=xs, y=ys).values  # (y,x)\n",
    "        ph, pw = patch.shape\n",
    "        if (ph, pw) != (IN_SIZE, IN_SIZE):\n",
    "            pad_y = max(0, IN_SIZE - ph)\n",
    "            pad_x = max(0, IN_SIZE - pw)\n",
    "            patch = np.pad(patch, ((0, pad_y), (0, pad_x)), mode=\"edge\")\n",
    "\n",
    "        arr32 = resize_32(patch)\n",
    "        arr32 = normalize(arr32, ch)\n",
    "\n",
    "        chan_row[str(ch)] = arr32\n",
    "        feat_row[f\"C{ch:02d}_mean\"] = float(np.nanmean(arr32))\n",
    "        feat_row[f\"C{ch:02d}_std\"]  = float(np.nanstd(arr32))\n",
    "\n",
    "    ds.close()\n",
    "\n",
    "    chan_row[\"time\"] = ts\n",
    "    rows_patches.append(chan_row)\n",
    "\n",
    "    feat_row[\"time\"] = ts\n",
    "    rows_features.append(feat_row)\n",
    "\n",
    "# if not rows_patches:\n",
    "#     raise RuntimeError(\"No se generaron parches.\")"
   ]
  },
  {
   "cell_type": "code",
   "execution_count": null,
   "id": "11701536",
   "metadata": {},
   "outputs": [],
   "source": [
    "sat_raw  = pd.DataFrame(rows_patches).set_index(\"time\").sort_index()   # columnas '1'..'16' (arrays 32×32)\n",
    "sat_feat = pd.DataFrame(rows_features).set_index(\"time\").sort_index()  # columnas Cxx_mean/std\n",
    "\n",
    "print(\"sat_raw :\", sat_raw.shape)\n",
    "print(\"sat_feat:\", sat_feat.shape)"
   ]
  },
  {
   "cell_type": "markdown",
   "id": "44cd89d4",
   "metadata": {},
   "source": [
    "### Persistance"
   ]
  },
  {
   "cell_type": "code",
   "execution_count": null,
   "id": "f51829bd",
   "metadata": {},
   "outputs": [],
   "source": [
    "sat_raw.to_pickle(OUT_DIR / \"goes_patches.pkl\")\n",
    "sat_feat.to_parquet(OUT_DIR / \"goes_features.parquet\", engine=\"pyarrow\", compression=\"zstd\")\n",
    "print(\"✅ Guardado:\", OUT_DIR / \"goes_patches.pkl\")\n",
    "print(\"✅ Guardado:\", OUT_DIR / \"goes_features.parquet\")"
   ]
  },
  {
   "cell_type": "markdown",
   "id": "2a37af5d",
   "metadata": {},
   "source": [
    "### Graphics"
   ]
  },
  {
   "cell_type": "code",
   "execution_count": null,
   "id": "abf4d741",
   "metadata": {},
   "outputs": [],
   "source": [
    "first_ts = sat_raw.index[0]\n",
    "X0 = np.stack([sat_raw.loc[first_ts, str(ch)] for ch in CHANNELS], axis=0)  # (16,32,32)\n",
    "\n",
    "fig_mosaic, axes = plt.subplots(4,4, figsize=(8,8))\n",
    "for i, ax in enumerate(axes.ravel(), start=1):\n",
    "    ax.imshow(X0[i-1], vmin=0, vmax=1, cmap=\"cividis\")\n",
    "    ax.set_title(f\"C{i:02d}\", fontsize=8)\n",
    "    ax.axis(\"off\")\n",
    "fig_mosaic.suptitle(f\"GOES-16 — {first_ts.isoformat()}\", y=0.92)\n",
    "plt.tight_layout(); plt.show()\n",
    "\n",
    "fig_mosaic.savefig(OUT_DIR / \"mosaic_c01_c16.png\", dpi=180)"
   ]
  },
  {
   "cell_type": "code",
   "execution_count": null,
   "id": "d6565ea5",
   "metadata": {},
   "outputs": [],
   "source": [
    "nc_demo = FILES[0]\n",
    "ds_demo = xr.open_dataset(nc_demo)\n",
    "\n",
    "sat_h = float(ds_demo[\"goes_imager_projection\"].perspective_point_height)\n",
    "x = ds_demo[\"x\"].values * sat_h\n",
    "y = ds_demo[\"y\"].values * sat_h\n",
    "\n",
    "Xc, Yc = lonlat_to_geos_xy(ds_demo, LON, LAT)\n",
    "ix = int(np.argmin((x - Xc)**2))\n",
    "iy = int(np.argmin((y - Yc)**2))\n",
    "\n",
    "half = IN_SIZE // 2\n",
    "xs = slice(max(ix-half, 0), min(ix+half, x.size))\n",
    "ys = slice(max(iy-half, 0), min(iy+half, y.size))\n",
    "\n",
    "var = \"CMI_C09\" if \"CMI_C09\" in ds_demo else list(ds_demo.data_vars)[0]\n",
    "full = ds_demo[var].values\n",
    "crop = ds_demo[var].isel(x=xs, y=ys).values\n",
    "ph, pw = crop.shape\n",
    "if (ph, pw) != (IN_SIZE, IN_SIZE):\n",
    "    crop = np.pad(crop, ((0, max(0,IN_SIZE-ph)), (0, max(0,IN_SIZE-pw))), mode=\"edge\")\n",
    "resized = resize_32(crop)\n",
    "\n",
    "xmin, xmax = x[xs].min(), x[xs].max()\n",
    "ymin, ymax = y[ys].min(), y[ys].max()\n",
    "\n",
    "vmin = np.nanpercentile(full, 5)\n",
    "vmax = np.nanpercentile(full, 95)"
   ]
  },
  {
   "cell_type": "code",
   "execution_count": null,
   "id": "6b952920",
   "metadata": {},
   "outputs": [],
   "source": [
    "gip = ds_demo[\"goes_imager_projection\"]\n",
    "proj = ccrs.Geostationary(\n",
    "    central_longitude=float(gip.longitude_of_projection_origin),\n",
    "    satellite_height=float(gip.perspective_point_height),\n",
    "    sweep_axis=str(gip.sweep_angle_axis)\n",
    ")\n",
    "\n",
    "import matplotlib.patches as mpatches\n",
    "fig_map = plt.figure(figsize=(14,4))"
   ]
  },
  {
   "cell_type": "code",
   "execution_count": null,
   "id": "e87f89cc",
   "metadata": {},
   "outputs": [],
   "source": [
    "# 1) Escena completa + rectángulo ROI\n",
    "ax1 = fig_map.add_subplot(1,3,1, projection=proj)\n",
    "ax1.imshow(full, extent=(x.min(), x.max(), y.min(), y.max()),\n",
    "            transform=proj, origin=\"upper\", vmin=vmin, vmax=vmax, cmap=\"cividis\")\n",
    "ax1.add_feature(cfeature.COASTLINE, linewidth=0.8)\n",
    "ax1.add_feature(cfeature.BORDERS, linewidth=0.6)\n",
    "ax1.add_patch(mpatches.Rectangle((xmin, ymin), xmax-xmin, ymax-ymin,\n",
    "                                    fill=False, edgecolor=\"red\", linewidth=2, transform=proj))\n",
    "ax1.set_title(\"Escena completa + ROI\"); ax1.axis(\"off\")\n",
    "\n",
    "# 2) Recorte 224×224\n",
    "ax2 = fig_map.add_subplot(1,3,2, projection=proj)\n",
    "ax2.imshow(crop, extent=(xmin, xmax, ymin, ymax),\n",
    "            transform=proj, origin=\"upper\", cmap=\"cividis\")\n",
    "ax2.set_title(\"Recorte (224×224)\"); ax2.axis(\"off\")\n",
    "\n",
    "# 3) Reescala 32×32\n",
    "ax3 = fig_map.add_subplot(1,3,3)\n",
    "ax3.imshow(resized, cmap=\"cividis\")\n",
    "ax3.set_title(\"Reescala (32×32)\"); ax3.axis(\"off\")\n",
    "\n",
    "plt.tight_layout(); plt.show()\n",
    "fig_map.savefig(OUT_DIR / \"full_roi_crop_rescale.png\", dpi=180)\n",
    "\n",
    "ds_demo.close()"
   ]
  },
  {
   "cell_type": "markdown",
   "id": "899cad47",
   "metadata": {},
   "source": [
    "### Diagnosis"
   ]
  },
  {
   "cell_type": "code",
   "execution_count": null,
   "id": "79c7a87e",
   "metadata": {},
   "outputs": [],
   "source": [
    "mean_cols = [c for c in sat_feat.columns if c.endswith(\"_mean\")]\n",
    "cover = pd.Series({c: sat_feat[c].notna().mean() for c in mean_cols}).sort_values(ascending=False)\n",
    "print(\"Cobertura por canal (features *_mean):\")\n",
    "display(cover.to_frame(\"coverage\").head(10))\n",
    "\n",
    "best_mean = cover.index[0] if len(cover) else None\n",
    "if best_mean and sat_feat[best_mean].dropna().shape[0] > 0:\n",
    "    ax = sat_feat[best_mean].dropna().plot(figsize=(10,3), lw=1.0,\n",
    "                                           title=f\"{best_mean} (norm) — serie temporal\")\n",
    "    ax.grid(True, ls=\"--\", alpha=0.4); plt.tight_layout(); plt.show()\n",
    "    plt.gcf().savefig(OUT_DIR / \"ts_best_mean.png\", dpi=180)\n",
    "else:\n",
    "    print(\"No hay series válidas para graficar (todo NaN).\")"
   ]
  },
  {
   "cell_type": "markdown",
   "id": "7235a385",
   "metadata": {},
   "source": [
    "### Export"
   ]
  },
  {
   "cell_type": "code",
   "execution_count": null,
   "id": "882065de",
   "metadata": {},
   "outputs": [],
   "source": [
    "year = sat_raw.index[0].year\n",
    "\n",
    "full_grid = pd.date_range(f\"{year}-01-01 00:00:00\", f\"{year}-12-31 23:50:00\", freq=\"10min\", tz=\"UTC\")\n",
    "\n",
    "df_join = pd.DataFrame(index=full_grid).join(sat_raw, how=\"left\")\n",
    "\n",
    "# Alias 0..15 (si fuera necesario para compatibilidad)\n",
    "for i in range(16):\n",
    "    src, dst = str(i+1), str(i)\n",
    "    if src in df_join.columns and dst not in df_join.columns:\n",
    "        df_join[dst] = df_join[src]\n",
    "\n",
    "out_pkl = OUT_DIR / \"datos_sateli.pkl\"\n",
    "df_join.to_pickle(out_pkl)\n",
    "print(\"✅ Guardado (formato legado):\", out_pkl, \"| shape:\", df_join.shape)"
   ]
  }
 ],
 "metadata": {
  "kernelspec": {
   "display_name": "e_ladino",
   "language": "python",
   "name": "python3"
  },
  "language_info": {
   "codemirror_mode": {
    "name": "ipython",
    "version": 3
   },
   "file_extension": ".py",
   "mimetype": "text/x-python",
   "name": "python",
   "nbconvert_exporter": "python",
   "pygments_lexer": "ipython3",
   "version": "3.12.11"
  }
 },
 "nbformat": 4,
 "nbformat_minor": 5
}
