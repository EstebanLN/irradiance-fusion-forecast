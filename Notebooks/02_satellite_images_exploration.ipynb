{
 "cells": [
  {
   "cell_type": "markdown",
   "id": "595329a7",
   "metadata": {},
   "source": [
    "# Data Exploration"
   ]
  },
  {
   "cell_type": "markdown",
   "id": "bf333175",
   "metadata": {},
   "source": [
    "## Overview\n",
    "This notebook performs data exploration and preprocessing for GOES images. The workflow includes data loading, quality control, temporal alignment."
   ]
  },
  {
   "cell_type": "code",
   "execution_count": null,
   "id": "f0e01b89",
   "metadata": {
    "vscode": {
     "languageId": "plaintext"
    }
   },
   "outputs": [],
   "source": []
  }
 ],
 "metadata": {
  "language_info": {
   "name": "python"
  }
 },
 "nbformat": 4,
 "nbformat_minor": 5
}
