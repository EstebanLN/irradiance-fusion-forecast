{
 "cells": [
  {
   "cell_type": "markdown",
   "id": "595329a7",
   "metadata": {},
   "source": [
    "# Data Exploration"
   ]
  },
  {
   "cell_type": "markdown",
   "id": "bf333175",
   "metadata": {},
   "source": [
    "## Overview\n",
    "This notebook performs data exploration and preprocessing for GOES images. The workflow includes data loading, quality control, temporal alignment."
   ]
  },
  {
   "cell_type": "markdown",
   "id": "4f3a523b",
   "metadata": {},
   "source": [
    "### Libraries"
   ]
  },
  {
   "cell_type": "code",
   "execution_count": 12,
   "id": "6914473e",
   "metadata": {},
   "outputs": [],
   "source": [
    "from glob import glob\n",
    "from pathlib import Path\n",
    "import numpy as np\n",
    "import pandas as pd\n",
    "import xarray as xr\n",
    "import matplotlib.pyplot as plt\n",
    "import cartopy.crs as ccrs\n",
    "import cartopy.feature as cfeature\n",
    "import pyproj\n",
    "\n",
    "from scipy.ndimage import zoom\n",
    "import os"
   ]
  },
  {
   "cell_type": "markdown",
   "id": "da9ce7e6",
   "metadata": {},
   "source": [
    "### Parameters"
   ]
  },
  {
   "cell_type": "code",
   "execution_count": 13,
   "id": "53d3b654",
   "metadata": {},
   "outputs": [
    {
     "name": "stdout",
     "output_type": "stream",
     "text": [
      "Found 1388 GOES files\n"
     ]
    }
   ],
   "source": [
    "LON, LAT = -74.0659, 4.6043   # Uniandes coordinates\n",
    "IN_SIZE  = 224                # initial crop size n×n (even)\n",
    "OUT_SIZE = 32                 # final rescaled size\n",
    "CHANNELS = range(1, 17)       # C01..C16 channels\n",
    "\n",
    "FILES = sorted(glob(\"../data_raw/datos_GOES/nc/OR_ABI-L2-MCMIPF-M6_G16_*.nc\"))\n",
    "OUT_DIR = Path(\"../data_interim/goes_dataset\")\n",
    "OUT_DIR.mkdir(parents=True, exist_ok=True)\n",
    "\n",
    "print(f\"Found {len(FILES)} GOES files\")"
   ]
  },
  {
   "cell_type": "markdown",
   "id": "8f3a5309",
   "metadata": {},
   "source": [
    "### Functions"
   ]
  },
  {
   "cell_type": "code",
   "execution_count": 14,
   "id": "c895a3aa",
   "metadata": {},
   "outputs": [],
   "source": [
    "def ensure_utc(ts_like):\n",
    "    \"\"\"Returns tz-aware Timestamp in UTC.\"\"\"\n",
    "    ts = pd.Timestamp(ts_like)\n",
    "    return ts.tz_localize(\"UTC\") if ts.tz is None else ts.tz_convert(\"UTC\")\n",
    "\n",
    "def resize_32(a):\n",
    "    \"\"\"Rescales to 32x32.\"\"\"\n",
    "    sy = OUT_SIZE / a.shape[0]\n",
    "    sx = OUT_SIZE / a.shape[1]\n",
    "    return zoom(a, (sy, sx), order=1).astype(\"float32\")\n",
    "\n",
    "def normalize(a, ch):\n",
    "    \"\"\"Normalizes: C01 visible → [0,1]; IR (180-330 K) → [0,1].\"\"\"\n",
    "    a = a.astype(\"float32\")\n",
    "    if ch == 1:\n",
    "        return np.clip(a, 0, 1)\n",
    "    return (np.clip(a, 180, 330) - 180) / 150.0\n",
    "\n",
    "def lonlat_to_geos_xy(ds, lon, lat):\n",
    "    \"\"\"Converts (lon,lat) → (Xc,Yc) in GEOS projection.\"\"\"\n",
    "    gip = ds[\"goes_imager_projection\"]\n",
    "    h = float(gip.perspective_point_height)\n",
    "    lon_0 = float(gip.longitude_of_projection_origin)\n",
    "    sweep = str(gip.sweep_angle_axis)\n",
    "    geos = pyproj.CRS.from_proj4(f\"+proj=geos +h={h} +lon_0={lon_0} +sweep={sweep} +ellps=WGS84\")\n",
    "    wgs = pyproj.CRS.from_epsg(4326)\n",
    "    P = pyproj.Transformer.from_crs(wgs, geos, always_xy=True)\n",
    "    return P.transform(lon, lat)  # (Xc, Yc)"
   ]
  },
  {
   "cell_type": "markdown",
   "id": "787dff08",
   "metadata": {},
   "source": [
    "### Processing"
   ]
  },
  {
   "cell_type": "code",
   "execution_count": 15,
   "id": "c1210641",
   "metadata": {},
   "outputs": [
    {
     "name": "stdout",
     "output_type": "stream",
     "text": [
      "Processing 1388 files...\n",
      "Processing file 1/1388: OR_ABI-L2-MCMIPF-M6_G16_s20240320000207_e20240320009526_c20240320009594.nc\n",
      "Processing file 51/1388: OR_ABI-L2-MCMIPF-M6_G16_s20240320820209_e20240320829528_c20240320829599.nc\n",
      "Processing file 101/1388: OR_ABI-L2-MCMIPF-M6_G16_s20240321640209_e20240321649529_c20240321649593.nc\n",
      "Processing file 151/1388: OR_ABI-L2-MCMIPF-M6_G16_s20240330100207_e20240330109527_c20240330110000.nc\n",
      "Processing file 201/1388: OR_ABI-L2-MCMIPF-M6_G16_s20240330920210_e20240330929523_c20240330929595.nc\n",
      "Processing file 251/1388: OR_ABI-L2-MCMIPF-M6_G16_s20240331740208_e20240331749516_c20240331750001.nc\n",
      "Processing file 301/1388: OR_ABI-L2-MCMIPF-M6_G16_s20240340200208_e20240340209527_c20240340209599.nc\n",
      "Processing file 351/1388: OR_ABI-L2-MCMIPF-M6_G16_s20240341020210_e20240341029530_c20240341029598.nc\n",
      "Processing file 401/1388: OR_ABI-L2-MCMIPF-M6_G16_s20240341840208_e20240341849528_c20240341850002.nc\n"
     ]
    },
    {
     "ename": "KeyboardInterrupt",
     "evalue": "",
     "output_type": "error",
     "traceback": [
      "\u001b[31m---------------------------------------------------------------------------\u001b[39m",
      "\u001b[31mKeyboardInterrupt\u001b[39m                         Traceback (most recent call last)",
      "\u001b[36mCell\u001b[39m\u001b[36m \u001b[39m\u001b[32mIn[15]\u001b[39m\u001b[32m, line 57\u001b[39m\n\u001b[32m     54\u001b[39m     feat_row[\u001b[33mf\u001b[39m\u001b[33m\"\u001b[39m\u001b[33mC\u001b[39m\u001b[38;5;132;01m{\u001b[39;00mch\u001b[38;5;132;01m:\u001b[39;00m\u001b[33m02d\u001b[39m\u001b[38;5;132;01m}\u001b[39;00m\u001b[33m_std\u001b[39m\u001b[33m\"\u001b[39m] = np.nan\n\u001b[32m     55\u001b[39m     \u001b[38;5;28;01mcontinue\u001b[39;00m\n\u001b[32m---> \u001b[39m\u001b[32m57\u001b[39m patch = \u001b[43mds\u001b[49m\u001b[43m[\u001b[49m\u001b[43mvar\u001b[49m\u001b[43m]\u001b[49m\u001b[43m.\u001b[49m\u001b[43misel\u001b[49m\u001b[43m(\u001b[49m\u001b[43mx\u001b[49m\u001b[43m=\u001b[49m\u001b[43mxs\u001b[49m\u001b[43m,\u001b[49m\u001b[43m \u001b[49m\u001b[43my\u001b[49m\u001b[43m=\u001b[49m\u001b[43mys\u001b[49m\u001b[43m)\u001b[49m\u001b[43m.\u001b[49m\u001b[43mvalues\u001b[49m  \u001b[38;5;66;03m# (y,x)\u001b[39;00m\n\u001b[32m     58\u001b[39m ph, pw = patch.shape\n\u001b[32m     59\u001b[39m \u001b[38;5;28;01mif\u001b[39;00m (ph, pw) != (IN_SIZE, IN_SIZE):\n",
      "\u001b[36mFile \u001b[39m\u001b[32m~/miniconda3/envs/e_ladino/lib/python3.12/site-packages/xarray/core/dataarray.py:797\u001b[39m, in \u001b[36mDataArray.values\u001b[39m\u001b[34m(self)\u001b[39m\n\u001b[32m    784\u001b[39m \u001b[38;5;129m@property\u001b[39m\n\u001b[32m    785\u001b[39m \u001b[38;5;28;01mdef\u001b[39;00m\u001b[38;5;250m \u001b[39m\u001b[34mvalues\u001b[39m(\u001b[38;5;28mself\u001b[39m) -> np.ndarray:\n\u001b[32m    786\u001b[39m \u001b[38;5;250m    \u001b[39m\u001b[33;03m\"\"\"\u001b[39;00m\n\u001b[32m    787\u001b[39m \u001b[33;03m    The array's data converted to numpy.ndarray.\u001b[39;00m\n\u001b[32m    788\u001b[39m \n\u001b[32m   (...)\u001b[39m\u001b[32m    795\u001b[39m \u001b[33;03m    to this array may be reflected in the DataArray as well.\u001b[39;00m\n\u001b[32m    796\u001b[39m \u001b[33;03m    \"\"\"\u001b[39;00m\n\u001b[32m--> \u001b[39m\u001b[32m797\u001b[39m     \u001b[38;5;28;01mreturn\u001b[39;00m \u001b[38;5;28;43mself\u001b[39;49m\u001b[43m.\u001b[49m\u001b[43mvariable\u001b[49m\u001b[43m.\u001b[49m\u001b[43mvalues\u001b[49m\n",
      "\u001b[36mFile \u001b[39m\u001b[32m~/miniconda3/envs/e_ladino/lib/python3.12/site-packages/xarray/core/variable.py:536\u001b[39m, in \u001b[36mVariable.values\u001b[39m\u001b[34m(self)\u001b[39m\n\u001b[32m    533\u001b[39m \u001b[38;5;129m@property\u001b[39m\n\u001b[32m    534\u001b[39m \u001b[38;5;28;01mdef\u001b[39;00m\u001b[38;5;250m \u001b[39m\u001b[34mvalues\u001b[39m(\u001b[38;5;28mself\u001b[39m) -> np.ndarray:\n\u001b[32m    535\u001b[39m \u001b[38;5;250m    \u001b[39m\u001b[33;03m\"\"\"The variable's data as a numpy.ndarray\"\"\"\u001b[39;00m\n\u001b[32m--> \u001b[39m\u001b[32m536\u001b[39m     \u001b[38;5;28;01mreturn\u001b[39;00m \u001b[43m_as_array_or_item\u001b[49m\u001b[43m(\u001b[49m\u001b[38;5;28;43mself\u001b[39;49m\u001b[43m.\u001b[49m\u001b[43m_data\u001b[49m\u001b[43m)\u001b[49m\n",
      "\u001b[36mFile \u001b[39m\u001b[32m~/miniconda3/envs/e_ladino/lib/python3.12/site-packages/xarray/core/variable.py:316\u001b[39m, in \u001b[36m_as_array_or_item\u001b[39m\u001b[34m(data)\u001b[39m\n\u001b[32m    302\u001b[39m \u001b[38;5;28;01mdef\u001b[39;00m\u001b[38;5;250m \u001b[39m\u001b[34m_as_array_or_item\u001b[39m(data):\n\u001b[32m    303\u001b[39m \u001b[38;5;250m    \u001b[39m\u001b[33;03m\"\"\"Return the given values as a numpy array, or as an individual item if\u001b[39;00m\n\u001b[32m    304\u001b[39m \u001b[33;03m    it's a 0d datetime64 or timedelta64 array.\u001b[39;00m\n\u001b[32m    305\u001b[39m \n\u001b[32m   (...)\u001b[39m\u001b[32m    314\u001b[39m \u001b[33;03m    TODO: remove this (replace with np.asarray) once these issues are fixed\u001b[39;00m\n\u001b[32m    315\u001b[39m \u001b[33;03m    \"\"\"\u001b[39;00m\n\u001b[32m--> \u001b[39m\u001b[32m316\u001b[39m     data = \u001b[43mnp\u001b[49m\u001b[43m.\u001b[49m\u001b[43masarray\u001b[49m\u001b[43m(\u001b[49m\u001b[43mdata\u001b[49m\u001b[43m)\u001b[49m\n\u001b[32m    317\u001b[39m     \u001b[38;5;28;01mif\u001b[39;00m data.ndim == \u001b[32m0\u001b[39m:\n\u001b[32m    318\u001b[39m         kind = data.dtype.kind\n",
      "\u001b[36mFile \u001b[39m\u001b[32m~/miniconda3/envs/e_ladino/lib/python3.12/site-packages/xarray/core/indexing.py:509\u001b[39m, in \u001b[36mExplicitlyIndexed.__array__\u001b[39m\u001b[34m(self, dtype, copy)\u001b[39m\n\u001b[32m    504\u001b[39m \u001b[38;5;28;01mdef\u001b[39;00m\u001b[38;5;250m \u001b[39m\u001b[34m__array__\u001b[39m(\n\u001b[32m    505\u001b[39m     \u001b[38;5;28mself\u001b[39m, dtype: np.typing.DTypeLike = \u001b[38;5;28;01mNone\u001b[39;00m, /, *, copy: \u001b[38;5;28mbool\u001b[39m | \u001b[38;5;28;01mNone\u001b[39;00m = \u001b[38;5;28;01mNone\u001b[39;00m\n\u001b[32m    506\u001b[39m ) -> np.ndarray:\n\u001b[32m    507\u001b[39m     \u001b[38;5;66;03m# Leave casting to an array up to the underlying array type.\u001b[39;00m\n\u001b[32m    508\u001b[39m     \u001b[38;5;28;01mif\u001b[39;00m Version(np.__version__) >= Version(\u001b[33m\"\u001b[39m\u001b[33m2.0.0\u001b[39m\u001b[33m\"\u001b[39m):\n\u001b[32m--> \u001b[39m\u001b[32m509\u001b[39m         \u001b[38;5;28;01mreturn\u001b[39;00m np.asarray(\u001b[38;5;28;43mself\u001b[39;49m\u001b[43m.\u001b[49m\u001b[43mget_duck_array\u001b[49m\u001b[43m(\u001b[49m\u001b[43m)\u001b[49m, dtype=dtype, copy=copy)\n\u001b[32m    510\u001b[39m     \u001b[38;5;28;01melse\u001b[39;00m:\n\u001b[32m    511\u001b[39m         \u001b[38;5;28;01mreturn\u001b[39;00m np.asarray(\u001b[38;5;28mself\u001b[39m.get_duck_array(), dtype=dtype)\n",
      "\u001b[36mFile \u001b[39m\u001b[32m~/miniconda3/envs/e_ladino/lib/python3.12/site-packages/xarray/core/indexing.py:843\u001b[39m, in \u001b[36mMemoryCachedArray.get_duck_array\u001b[39m\u001b[34m(self)\u001b[39m\n\u001b[32m    842\u001b[39m \u001b[38;5;28;01mdef\u001b[39;00m\u001b[38;5;250m \u001b[39m\u001b[34mget_duck_array\u001b[39m(\u001b[38;5;28mself\u001b[39m):\n\u001b[32m--> \u001b[39m\u001b[32m843\u001b[39m     \u001b[38;5;28;43mself\u001b[39;49m\u001b[43m.\u001b[49m\u001b[43m_ensure_cached\u001b[49m\u001b[43m(\u001b[49m\u001b[43m)\u001b[49m\n\u001b[32m    844\u001b[39m     \u001b[38;5;28;01mreturn\u001b[39;00m \u001b[38;5;28mself\u001b[39m.array.get_duck_array()\n",
      "\u001b[36mFile \u001b[39m\u001b[32m~/miniconda3/envs/e_ladino/lib/python3.12/site-packages/xarray/core/indexing.py:840\u001b[39m, in \u001b[36mMemoryCachedArray._ensure_cached\u001b[39m\u001b[34m(self)\u001b[39m\n\u001b[32m    839\u001b[39m \u001b[38;5;28;01mdef\u001b[39;00m\u001b[38;5;250m \u001b[39m\u001b[34m_ensure_cached\u001b[39m(\u001b[38;5;28mself\u001b[39m):\n\u001b[32m--> \u001b[39m\u001b[32m840\u001b[39m     \u001b[38;5;28mself\u001b[39m.array = as_indexable(\u001b[38;5;28;43mself\u001b[39;49m\u001b[43m.\u001b[49m\u001b[43marray\u001b[49m\u001b[43m.\u001b[49m\u001b[43mget_duck_array\u001b[49m\u001b[43m(\u001b[49m\u001b[43m)\u001b[49m)\n",
      "\u001b[36mFile \u001b[39m\u001b[32m~/miniconda3/envs/e_ladino/lib/python3.12/site-packages/xarray/core/indexing.py:797\u001b[39m, in \u001b[36mCopyOnWriteArray.get_duck_array\u001b[39m\u001b[34m(self)\u001b[39m\n\u001b[32m    796\u001b[39m \u001b[38;5;28;01mdef\u001b[39;00m\u001b[38;5;250m \u001b[39m\u001b[34mget_duck_array\u001b[39m(\u001b[38;5;28mself\u001b[39m):\n\u001b[32m--> \u001b[39m\u001b[32m797\u001b[39m     \u001b[38;5;28;01mreturn\u001b[39;00m \u001b[38;5;28;43mself\u001b[39;49m\u001b[43m.\u001b[49m\u001b[43marray\u001b[49m\u001b[43m.\u001b[49m\u001b[43mget_duck_array\u001b[49m\u001b[43m(\u001b[49m\u001b[43m)\u001b[49m\n",
      "\u001b[36mFile \u001b[39m\u001b[32m~/miniconda3/envs/e_ladino/lib/python3.12/site-packages/xarray/coding/common.py:80\u001b[39m, in \u001b[36m_ElementwiseFunctionArray.get_duck_array\u001b[39m\u001b[34m(self)\u001b[39m\n\u001b[32m     79\u001b[39m \u001b[38;5;28;01mdef\u001b[39;00m\u001b[38;5;250m \u001b[39m\u001b[34mget_duck_array\u001b[39m(\u001b[38;5;28mself\u001b[39m):\n\u001b[32m---> \u001b[39m\u001b[32m80\u001b[39m     \u001b[38;5;28;01mreturn\u001b[39;00m \u001b[38;5;28mself\u001b[39m.func(\u001b[38;5;28;43mself\u001b[39;49m\u001b[43m.\u001b[49m\u001b[43marray\u001b[49m\u001b[43m.\u001b[49m\u001b[43mget_duck_array\u001b[49m\u001b[43m(\u001b[49m\u001b[43m)\u001b[49m)\n",
      "\u001b[36mFile \u001b[39m\u001b[32m~/miniconda3/envs/e_ladino/lib/python3.12/site-packages/xarray/coding/common.py:80\u001b[39m, in \u001b[36m_ElementwiseFunctionArray.get_duck_array\u001b[39m\u001b[34m(self)\u001b[39m\n\u001b[32m     79\u001b[39m \u001b[38;5;28;01mdef\u001b[39;00m\u001b[38;5;250m \u001b[39m\u001b[34mget_duck_array\u001b[39m(\u001b[38;5;28mself\u001b[39m):\n\u001b[32m---> \u001b[39m\u001b[32m80\u001b[39m     \u001b[38;5;28;01mreturn\u001b[39;00m \u001b[38;5;28mself\u001b[39m.func(\u001b[38;5;28;43mself\u001b[39;49m\u001b[43m.\u001b[49m\u001b[43marray\u001b[49m\u001b[43m.\u001b[49m\u001b[43mget_duck_array\u001b[49m\u001b[43m(\u001b[49m\u001b[43m)\u001b[49m)\n",
      "\u001b[36mFile \u001b[39m\u001b[32m~/miniconda3/envs/e_ladino/lib/python3.12/site-packages/xarray/coding/common.py:80\u001b[39m, in \u001b[36m_ElementwiseFunctionArray.get_duck_array\u001b[39m\u001b[34m(self)\u001b[39m\n\u001b[32m     79\u001b[39m \u001b[38;5;28;01mdef\u001b[39;00m\u001b[38;5;250m \u001b[39m\u001b[34mget_duck_array\u001b[39m(\u001b[38;5;28mself\u001b[39m):\n\u001b[32m---> \u001b[39m\u001b[32m80\u001b[39m     \u001b[38;5;28;01mreturn\u001b[39;00m \u001b[38;5;28mself\u001b[39m.func(\u001b[38;5;28;43mself\u001b[39;49m\u001b[43m.\u001b[49m\u001b[43marray\u001b[49m\u001b[43m.\u001b[49m\u001b[43mget_duck_array\u001b[49m\u001b[43m(\u001b[49m\u001b[43m)\u001b[49m)\n",
      "\u001b[36mFile \u001b[39m\u001b[32m~/miniconda3/envs/e_ladino/lib/python3.12/site-packages/xarray/core/indexing.py:652\u001b[39m, in \u001b[36mLazilyIndexedArray.get_duck_array\u001b[39m\u001b[34m(self)\u001b[39m\n\u001b[32m    648\u001b[39m     array = apply_indexer(\u001b[38;5;28mself\u001b[39m.array, \u001b[38;5;28mself\u001b[39m.key)\n\u001b[32m    649\u001b[39m \u001b[38;5;28;01melse\u001b[39;00m:\n\u001b[32m    650\u001b[39m     \u001b[38;5;66;03m# If the array is not an ExplicitlyIndexedNDArrayMixin,\u001b[39;00m\n\u001b[32m    651\u001b[39m     \u001b[38;5;66;03m# it may wrap a BackendArray so use its __getitem__\u001b[39;00m\n\u001b[32m--> \u001b[39m\u001b[32m652\u001b[39m     array = \u001b[38;5;28;43mself\u001b[39;49m\u001b[43m.\u001b[49m\u001b[43marray\u001b[49m\u001b[43m[\u001b[49m\u001b[38;5;28;43mself\u001b[39;49m\u001b[43m.\u001b[49m\u001b[43mkey\u001b[49m\u001b[43m]\u001b[49m\n\u001b[32m    654\u001b[39m \u001b[38;5;66;03m# self.array[self.key] is now a numpy array when\u001b[39;00m\n\u001b[32m    655\u001b[39m \u001b[38;5;66;03m# self.array is a BackendArray subclass\u001b[39;00m\n\u001b[32m    656\u001b[39m \u001b[38;5;66;03m# and self.key is BasicIndexer((slice(None, None, None),))\u001b[39;00m\n\u001b[32m    657\u001b[39m \u001b[38;5;66;03m# so we need the explicit check for ExplicitlyIndexed\u001b[39;00m\n\u001b[32m    658\u001b[39m \u001b[38;5;28;01mif\u001b[39;00m \u001b[38;5;28misinstance\u001b[39m(array, ExplicitlyIndexed):\n",
      "\u001b[36mFile \u001b[39m\u001b[32m~/miniconda3/envs/e_ladino/lib/python3.12/site-packages/xarray/backends/netCDF4_.py:108\u001b[39m, in \u001b[36mNetCDF4ArrayWrapper.__getitem__\u001b[39m\u001b[34m(self, key)\u001b[39m\n\u001b[32m    107\u001b[39m \u001b[38;5;28;01mdef\u001b[39;00m\u001b[38;5;250m \u001b[39m\u001b[34m__getitem__\u001b[39m(\u001b[38;5;28mself\u001b[39m, key):\n\u001b[32m--> \u001b[39m\u001b[32m108\u001b[39m     \u001b[38;5;28;01mreturn\u001b[39;00m \u001b[43mindexing\u001b[49m\u001b[43m.\u001b[49m\u001b[43mexplicit_indexing_adapter\u001b[49m\u001b[43m(\u001b[49m\n\u001b[32m    109\u001b[39m \u001b[43m        \u001b[49m\u001b[43mkey\u001b[49m\u001b[43m,\u001b[49m\u001b[43m \u001b[49m\u001b[38;5;28;43mself\u001b[39;49m\u001b[43m.\u001b[49m\u001b[43mshape\u001b[49m\u001b[43m,\u001b[49m\u001b[43m \u001b[49m\u001b[43mindexing\u001b[49m\u001b[43m.\u001b[49m\u001b[43mIndexingSupport\u001b[49m\u001b[43m.\u001b[49m\u001b[43mOUTER\u001b[49m\u001b[43m,\u001b[49m\u001b[43m \u001b[49m\u001b[38;5;28;43mself\u001b[39;49m\u001b[43m.\u001b[49m\u001b[43m_getitem\u001b[49m\n\u001b[32m    110\u001b[39m \u001b[43m    \u001b[49m\u001b[43m)\u001b[49m\n",
      "\u001b[36mFile \u001b[39m\u001b[32m~/miniconda3/envs/e_ladino/lib/python3.12/site-packages/xarray/core/indexing.py:1021\u001b[39m, in \u001b[36mexplicit_indexing_adapter\u001b[39m\u001b[34m(key, shape, indexing_support, raw_indexing_method)\u001b[39m\n\u001b[32m    999\u001b[39m \u001b[38;5;250m\u001b[39m\u001b[33;03m\"\"\"Support explicit indexing by delegating to a raw indexing method.\u001b[39;00m\n\u001b[32m   1000\u001b[39m \n\u001b[32m   1001\u001b[39m \u001b[33;03mOuter and/or vectorized indexers are supported by indexing a second time\u001b[39;00m\n\u001b[32m   (...)\u001b[39m\u001b[32m   1018\u001b[39m \u001b[33;03mIndexing result, in the form of a duck numpy-array.\u001b[39;00m\n\u001b[32m   1019\u001b[39m \u001b[33;03m\"\"\"\u001b[39;00m\n\u001b[32m   1020\u001b[39m raw_key, numpy_indices = decompose_indexer(key, shape, indexing_support)\n\u001b[32m-> \u001b[39m\u001b[32m1021\u001b[39m result = \u001b[43mraw_indexing_method\u001b[49m\u001b[43m(\u001b[49m\u001b[43mraw_key\u001b[49m\u001b[43m.\u001b[49m\u001b[43mtuple\u001b[49m\u001b[43m)\u001b[49m\n\u001b[32m   1022\u001b[39m \u001b[38;5;28;01mif\u001b[39;00m numpy_indices.tuple:\n\u001b[32m   1023\u001b[39m     \u001b[38;5;66;03m# index the loaded duck array\u001b[39;00m\n\u001b[32m   1024\u001b[39m     indexable = as_indexable(result)\n",
      "\u001b[36mFile \u001b[39m\u001b[32m~/miniconda3/envs/e_ladino/lib/python3.12/site-packages/xarray/backends/netCDF4_.py:121\u001b[39m, in \u001b[36mNetCDF4ArrayWrapper._getitem\u001b[39m\u001b[34m(self, key)\u001b[39m\n\u001b[32m    119\u001b[39m     \u001b[38;5;28;01mwith\u001b[39;00m \u001b[38;5;28mself\u001b[39m.datastore.lock:\n\u001b[32m    120\u001b[39m         original_array = \u001b[38;5;28mself\u001b[39m.get_array(needs_lock=\u001b[38;5;28;01mFalse\u001b[39;00m)\n\u001b[32m--> \u001b[39m\u001b[32m121\u001b[39m         array = \u001b[43mgetitem\u001b[49m\u001b[43m(\u001b[49m\u001b[43moriginal_array\u001b[49m\u001b[43m,\u001b[49m\u001b[43m \u001b[49m\u001b[43mkey\u001b[49m\u001b[43m)\u001b[49m\n\u001b[32m    122\u001b[39m \u001b[38;5;28;01mexcept\u001b[39;00m \u001b[38;5;167;01mIndexError\u001b[39;00m \u001b[38;5;28;01mas\u001b[39;00m err:\n\u001b[32m    123\u001b[39m     \u001b[38;5;66;03m# Catch IndexError in netCDF4 and return a more informative\u001b[39;00m\n\u001b[32m    124\u001b[39m     \u001b[38;5;66;03m# error message.  This is most often called when an unsorted\u001b[39;00m\n\u001b[32m    125\u001b[39m     \u001b[38;5;66;03m# indexer is used before the data is loaded from disk.\u001b[39;00m\n\u001b[32m    126\u001b[39m     msg = (\n\u001b[32m    127\u001b[39m         \u001b[33m\"\u001b[39m\u001b[33mThe indexing operation you are attempting to perform \u001b[39m\u001b[33m\"\u001b[39m\n\u001b[32m    128\u001b[39m         \u001b[33m\"\u001b[39m\u001b[33mis not valid on netCDF4.Variable object. Try loading \u001b[39m\u001b[33m\"\u001b[39m\n\u001b[32m    129\u001b[39m         \u001b[33m\"\u001b[39m\u001b[33myour data into memory first by calling .load().\u001b[39m\u001b[33m\"\u001b[39m\n\u001b[32m    130\u001b[39m     )\n",
      "\u001b[31mKeyboardInterrupt\u001b[39m: "
     ]
    }
   ],
   "source": [
    "rows_patches = []   # each row: {'time': ts, '1': arr32, ..., '16': arr32}\n",
    "rows_features = []  # each row: {'time': ts, 'C01_mean':..., 'C01_std':..., ...}\n",
    "\n",
    "# DEBUG: Check if files are accessible\n",
    "print(f\"Processing {len(FILES)} files...\")\n",
    "\n",
    "for i, nc_path in enumerate(FILES):\n",
    "    if i % 50 == 0:\n",
    "        print(f\"Processing file {i+1}/{len(FILES)}: {os.path.basename(nc_path)}\")\n",
    "    \n",
    "    try:\n",
    "        ds = xr.open_dataset(nc_path)\n",
    "\n",
    "        # Ejes x,y (rad) → metros\n",
    "        sat_h = float(ds[\"goes_imager_projection\"].perspective_point_height)\n",
    "        x = ds[\"x\"].values * sat_h\n",
    "        y = ds[\"y\"].values * sat_h\n",
    "\n",
    "        # Timestamp extraction with multiple fallbacks\n",
    "        ts_attr = (\n",
    "            ds.attrs.get(\"time_coverage_start\") or\n",
    "            ds.attrs.get(\"time_coverage_end\") or\n",
    "            ds.attrs.get(\"date_created\") or\n",
    "            next((ds[v].attrs.get(\"time_coverage_start\") \n",
    "                 for v in ds.data_vars if hasattr(ds[v], 'attrs') and \"time_coverage_start\" in ds[v].attrs), None)\n",
    "        )\n",
    "        \n",
    "        if ts_attr is None:\n",
    "            print(f\"Warning: No timestamp found in {nc_path}, skipping...\")\n",
    "            ds.close()\n",
    "            continue\n",
    "            \n",
    "        ts = ensure_utc(ts_attr)\n",
    "\n",
    "        # Centro ROI → índices más cercanos\n",
    "        Xc, Yc = lonlat_to_geos_xy(ds, LON, LAT)\n",
    "        ix = int(np.argmin((x - Xc)**2))\n",
    "        iy = int(np.argmin((y - Yc)**2))\n",
    "\n",
    "        half = IN_SIZE // 2\n",
    "        xs = slice(max(ix-half, 0), min(ix+half, x.size))\n",
    "        ys = slice(max(iy-half, 0), min(iy+half, y.size))\n",
    "\n",
    "        # Extract channels: crop, pad if needed, rescale and normalize\n",
    "        chan_row = {}\n",
    "        feat_row = {'time': ts}  # Ensure time is always included\n",
    "        \n",
    "        for ch in CHANNELS:\n",
    "            var = f\"CMI_C{ch:02d}\"\n",
    "            if var not in ds:\n",
    "                arr32 = np.full((OUT_SIZE, OUT_SIZE), np.nan, np.float32)\n",
    "                chan_row[str(ch)] = arr32\n",
    "                feat_row[f\"C{ch:02d}_mean\"] = np.nan\n",
    "                feat_row[f\"C{ch:02d}_std\"] = np.nan\n",
    "                continue\n",
    "\n",
    "            patch = ds[var].isel(x=xs, y=ys).values  # (y,x)\n",
    "            ph, pw = patch.shape\n",
    "            if (ph, pw) != (IN_SIZE, IN_SIZE):\n",
    "                pad_y = max(0, IN_SIZE - ph)\n",
    "                pad_x = max(0, IN_SIZE - pw)\n",
    "                patch = np.pad(patch, ((0, pad_y), (0, pad_x)), mode=\"edge\")\n",
    "\n",
    "            arr32 = resize_32(patch)\n",
    "            arr32 = normalize(arr32, ch)\n",
    "\n",
    "            chan_row[str(ch)] = arr32\n",
    "            feat_row[f\"C{ch:02d}_mean\"] = float(np.nanmean(arr32))\n",
    "            feat_row[f\"C{ch:02d}_std\"] = float(np.nanstd(arr32))\n",
    "\n",
    "        ds.close()\n",
    "\n",
    "        chan_row[\"time\"] = ts  # Ensure time is in both dictionaries\n",
    "        rows_patches.append(chan_row)\n",
    "        rows_features.append(feat_row)\n",
    "        \n",
    "    except Exception as e:\n",
    "        print(f\"Error processing {nc_path}: {str(e)}\")\n",
    "        continue"
   ]
  },
  {
   "cell_type": "code",
   "execution_count": null,
   "id": "2a6d2db5",
   "metadata": {},
   "outputs": [
    {
     "ename": "RuntimeError",
     "evalue": "No patches were generated. Check file paths and data availability.",
     "output_type": "error",
     "traceback": [
      "\u001b[31m---------------------------------------------------------------------------\u001b[39m",
      "\u001b[31mRuntimeError\u001b[39m                              Traceback (most recent call last)",
      "\u001b[36mCell\u001b[39m\u001b[36m \u001b[39m\u001b[32mIn[11]\u001b[39m\u001b[32m, line 2\u001b[39m\n\u001b[32m      1\u001b[39m \u001b[38;5;28;01mif\u001b[39;00m \u001b[38;5;129;01mnot\u001b[39;00m rows_patches:\n\u001b[32m----> \u001b[39m\u001b[32m2\u001b[39m     \u001b[38;5;28;01mraise\u001b[39;00m \u001b[38;5;167;01mRuntimeError\u001b[39;00m(\u001b[33m\"\u001b[39m\u001b[33mNo patches were generated. Check file paths and data availability.\u001b[39m\u001b[33m\"\u001b[39m)\n",
      "\u001b[31mRuntimeError\u001b[39m: No patches were generated. Check file paths and data availability."
     ]
    }
   ],
   "source": [
    "if not rows_patches:\n",
    "    raise RuntimeError(\"No patches were generated. Check file paths and data availability.\")"
   ]
  },
  {
   "cell_type": "code",
   "execution_count": null,
   "id": "11701536",
   "metadata": {},
   "outputs": [
    {
     "ename": "KeyError",
     "evalue": "\"None of ['time'] are in the columns\"",
     "output_type": "error",
     "traceback": [
      "\u001b[31m---------------------------------------------------------------------------\u001b[39m",
      "\u001b[31mKeyError\u001b[39m                                  Traceback (most recent call last)",
      "\u001b[32m/tmp/ipykernel_329595/3771727345.py\u001b[39m in \u001b[36m?\u001b[39m\u001b[34m()\u001b[39m\n\u001b[32m----> \u001b[39m\u001b[32m1\u001b[39m sat_raw  = pd.DataFrame(rows_patches).set_index(\u001b[33m\"time\"\u001b[39m).sort_index()   \u001b[38;5;66;03m# columnas '1'..'16' (arrays 32×32)\u001b[39;00m\n\u001b[32m      2\u001b[39m sat_feat = pd.DataFrame(rows_features).set_index(\u001b[33m\"time\"\u001b[39m).sort_index()  \u001b[38;5;66;03m# columnas Cxx_mean/std\u001b[39;00m\n\u001b[32m      3\u001b[39m \n\u001b[32m      4\u001b[39m print(\u001b[33m\"sat_raw :\"\u001b[39m, sat_raw.shape)\n",
      "\u001b[32m~/miniconda3/envs/e_ladino/lib/python3.12/site-packages/pandas/core/frame.py\u001b[39m in \u001b[36m?\u001b[39m\u001b[34m(self, keys, drop, append, inplace, verify_integrity)\u001b[39m\n\u001b[32m   6125\u001b[39m                     \u001b[38;5;28;01mif\u001b[39;00m \u001b[38;5;28;01mnot\u001b[39;00m found:\n\u001b[32m   6126\u001b[39m                         missing.append(col)\n\u001b[32m   6127\u001b[39m \n\u001b[32m   6128\u001b[39m         \u001b[38;5;28;01mif\u001b[39;00m missing:\n\u001b[32m-> \u001b[39m\u001b[32m6129\u001b[39m             \u001b[38;5;28;01mraise\u001b[39;00m KeyError(f\"None of {missing} are in the columns\")\n\u001b[32m   6130\u001b[39m \n\u001b[32m   6131\u001b[39m         \u001b[38;5;28;01mif\u001b[39;00m inplace:\n\u001b[32m   6132\u001b[39m             frame = self\n",
      "\u001b[31mKeyError\u001b[39m: \"None of ['time'] are in the columns\""
     ]
    }
   ],
   "source": [
    "sat_raw = pd.DataFrame(rows_patches)\n",
    "sat_feat = pd.DataFrame(rows_features)\n",
    "\n",
    "# Verify time column exists\n",
    "if 'time' not in sat_raw.columns:\n",
    "    raise KeyError(\"'time' column not found in patches data\")\n",
    "if 'time' not in sat_feat.columns:\n",
    "    raise KeyError(\"'time' column not found in features data\")\n",
    "\n",
    "# Set index and sort\n",
    "sat_raw = sat_raw.set_index(\"time\").sort_index()\n",
    "sat_feat = sat_feat.set_index(\"time\").sort_index()\n",
    "\n",
    "print(\"sat_raw shape:\", sat_raw.shape)\n",
    "print(\"sat_feat shape:\", sat_feat.shape)\n",
    "print(\"\\nFirst few timestamps:\")\n",
    "print(sat_raw.index[:5])"
   ]
  },
  {
   "cell_type": "markdown",
   "id": "44cd89d4",
   "metadata": {},
   "source": [
    "### Persistance"
   ]
  },
  {
   "cell_type": "code",
   "execution_count": null,
   "id": "f51829bd",
   "metadata": {},
   "outputs": [],
   "source": [
    "sat_raw.to_pickle(OUT_DIR / \"goes_patches.pkl\")\n",
    "sat_feat.to_parquet(OUT_DIR / \"goes_features.parquet\", engine=\"pyarrow\", compression=\"zstd\")\n",
    "print(\"Saved:\", OUT_DIR / \"goes_patches.pkl\")\n",
    "print(\"Saved:\", OUT_DIR / \"goes_features.parquet\")"
   ]
  },
  {
   "cell_type": "markdown",
   "id": "2a37af5d",
   "metadata": {},
   "source": [
    "### Graphics"
   ]
  },
  {
   "cell_type": "code",
   "execution_count": null,
   "id": "abf4d741",
   "metadata": {},
   "outputs": [],
   "source": [
    "first_ts = sat_raw.index[0]\n",
    "X0 = np.stack([sat_raw.loc[first_ts, str(ch)] for ch in CHANNELS], axis=0)  # (16,32,32)\n",
    "\n",
    "fig_mosaic, axes = plt.subplots(4,4, figsize=(8,8))\n",
    "for i, ax in enumerate(axes.ravel(), start=1):\n",
    "    ax.imshow(X0[i-1], vmin=0, vmax=1, cmap=\"cividis\")\n",
    "    ax.set_title(f\"C{i:02d}\", fontsize=8)\n",
    "    ax.axis(\"off\")\n",
    "fig_mosaic.suptitle(f\"GOES-16 — {first_ts.isoformat()}\", y=0.92)\n",
    "plt.tight_layout(); plt.show()\n",
    "\n",
    "fig_mosaic.savefig(OUT_DIR / \"mosaic_c01_c16.png\", dpi=180)"
   ]
  },
  {
   "cell_type": "code",
   "execution_count": null,
   "id": "d6565ea5",
   "metadata": {},
   "outputs": [],
   "source": [
    "nc_demo = FILES[0]\n",
    "ds_demo = xr.open_dataset(nc_demo)\n",
    "\n",
    "sat_h = float(ds_demo[\"goes_imager_projection\"].perspective_point_height)\n",
    "x = ds_demo[\"x\"].values * sat_h\n",
    "y = ds_demo[\"y\"].values * sat_h\n",
    "\n",
    "Xc, Yc = lonlat_to_geos_xy(ds_demo, LON, LAT)\n",
    "ix = int(np.argmin((x - Xc)**2))\n",
    "iy = int(np.argmin((y - Yc)**2))\n",
    "\n",
    "half = IN_SIZE // 2\n",
    "xs = slice(max(ix-half, 0), min(ix+half, x.size))\n",
    "ys = slice(max(iy-half, 0), min(iy+half, y.size))\n",
    "\n",
    "var = \"CMI_C09\" if \"CMI_C09\" in ds_demo else list(ds_demo.data_vars)[0]\n",
    "full = ds_demo[var].values\n",
    "crop = ds_demo[var].isel(x=xs, y=ys).values\n",
    "ph, pw = crop.shape\n",
    "if (ph, pw) != (IN_SIZE, IN_SIZE):\n",
    "    crop = np.pad(crop, ((0, max(0,IN_SIZE-ph)), (0, max(0,IN_SIZE-pw))), mode=\"edge\")\n",
    "resized = resize_32(crop)\n",
    "\n",
    "xmin, xmax = x[xs].min(), x[xs].max()\n",
    "ymin, ymax = y[ys].min(), y[ys].max()\n",
    "\n",
    "vmin = np.nanpercentile(full, 5)\n",
    "vmax = np.nanpercentile(full, 95)"
   ]
  },
  {
   "cell_type": "code",
   "execution_count": null,
   "id": "6b952920",
   "metadata": {},
   "outputs": [],
   "source": [
    "gip = ds_demo[\"goes_imager_projection\"]\n",
    "proj = ccrs.Geostationary(\n",
    "    central_longitude=float(gip.longitude_of_projection_origin),\n",
    "    satellite_height=float(gip.perspective_point_height),\n",
    "    sweep_axis=str(gip.sweep_angle_axis)\n",
    ")\n",
    "\n",
    "import matplotlib.patches as mpatches\n",
    "fig_map = plt.figure(figsize=(14,4))"
   ]
  },
  {
   "cell_type": "code",
   "execution_count": null,
   "id": "e87f89cc",
   "metadata": {},
   "outputs": [],
   "source": [
    "# 1) Escena completa + rectángulo ROI\n",
    "ax1 = fig_map.add_subplot(1,3,1, projection=proj)\n",
    "ax1.imshow(full, extent=(x.min(), x.max(), y.min(), y.max()),\n",
    "            transform=proj, origin=\"upper\", vmin=vmin, vmax=vmax, cmap=\"cividis\")\n",
    "ax1.add_feature(cfeature.COASTLINE, linewidth=0.8)\n",
    "ax1.add_feature(cfeature.BORDERS, linewidth=0.6)\n",
    "ax1.add_patch(mpatches.Rectangle((xmin, ymin), xmax-xmin, ymax-ymin,\n",
    "                                    fill=False, edgecolor=\"red\", linewidth=2, transform=proj))\n",
    "ax1.set_title(\"Escena completa + ROI\"); ax1.axis(\"off\")\n",
    "\n",
    "# 2) Recorte 224×224\n",
    "ax2 = fig_map.add_subplot(1,3,2, projection=proj)\n",
    "ax2.imshow(crop, extent=(xmin, xmax, ymin, ymax),\n",
    "            transform=proj, origin=\"upper\", cmap=\"cividis\")\n",
    "ax2.set_title(\"Recorte (224×224)\"); ax2.axis(\"off\")\n",
    "\n",
    "# 3) Reescala 32×32\n",
    "ax3 = fig_map.add_subplot(1,3,3)\n",
    "ax3.imshow(resized, cmap=\"cividis\")\n",
    "ax3.set_title(\"Reescala (32×32)\"); ax3.axis(\"off\")\n",
    "\n",
    "plt.tight_layout(); plt.show()\n",
    "fig_map.savefig(OUT_DIR / \"full_roi_crop_rescale.png\", dpi=180)\n",
    "\n",
    "ds_demo.close()"
   ]
  },
  {
   "cell_type": "markdown",
   "id": "899cad47",
   "metadata": {},
   "source": [
    "### Diagnosis"
   ]
  },
  {
   "cell_type": "code",
   "execution_count": null,
   "id": "79c7a87e",
   "metadata": {},
   "outputs": [],
   "source": [
    "mean_cols = [c for c in sat_feat.columns if c.endswith(\"_mean\")]\n",
    "cover = pd.Series({c: sat_feat[c].notna().mean() for c in mean_cols}).sort_values(ascending=False)\n",
    "print(\"Cobertura por canal (features *_mean):\")\n",
    "display(cover.to_frame(\"coverage\").head(10))\n",
    "\n",
    "best_mean = cover.index[0] if len(cover) else None\n",
    "if best_mean and sat_feat[best_mean].dropna().shape[0] > 0:\n",
    "    ax = sat_feat[best_mean].dropna().plot(figsize=(10,3), lw=1.0,\n",
    "                                           title=f\"{best_mean} (norm) — serie temporal\")\n",
    "    ax.grid(True, ls=\"--\", alpha=0.4); plt.tight_layout(); plt.show()\n",
    "    plt.gcf().savefig(OUT_DIR / \"ts_best_mean.png\", dpi=180)\n",
    "else:\n",
    "    print(\"No hay series válidas para graficar (todo NaN).\")"
   ]
  },
  {
   "cell_type": "markdown",
   "id": "7235a385",
   "metadata": {},
   "source": [
    "### Export"
   ]
  },
  {
   "cell_type": "code",
   "execution_count": null,
   "id": "882065de",
   "metadata": {},
   "outputs": [],
   "source": [
    "year = sat_raw.index[0].year\n",
    "\n",
    "full_grid = pd.date_range(f\"{year}-01-01 00:00:00\", f\"{year}-12-31 23:50:00\", freq=\"10min\", tz=\"UTC\")\n",
    "\n",
    "df_join = pd.DataFrame(index=full_grid).join(sat_raw, how=\"left\")\n",
    "\n",
    "# Alias 0..15 (si fuera necesario para compatibilidad)\n",
    "for i in range(16):\n",
    "    src, dst = str(i+1), str(i)\n",
    "    if src in df_join.columns and dst not in df_join.columns:\n",
    "        df_join[dst] = df_join[src]\n",
    "\n",
    "out_pkl = OUT_DIR / \"datos_sateli.pkl\"\n",
    "df_join.to_pickle(out_pkl)\n",
    "print(\"✅ Guardado (formato legado):\", out_pkl, \"| shape:\", df_join.shape)"
   ]
  }
 ],
 "metadata": {
  "kernelspec": {
   "display_name": "e_ladino",
   "language": "python",
   "name": "python3"
  },
  "language_info": {
   "codemirror_mode": {
    "name": "ipython",
    "version": 3
   },
   "file_extension": ".py",
   "mimetype": "text/x-python",
   "name": "python",
   "nbconvert_exporter": "python",
   "pygments_lexer": "ipython3",
   "version": "3.12.11"
  }
 },
 "nbformat": 4,
 "nbformat_minor": 5
}
