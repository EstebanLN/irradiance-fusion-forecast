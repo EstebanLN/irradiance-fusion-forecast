{
 "cells": [
  {
   "cell_type": "markdown",
   "id": "beaaed6a",
   "metadata": {},
   "source": [
    "# Data exploration\n",
    "## Overview\n"
   ]
  },
  {
   "cell_type": "markdown",
   "id": "002cfb1f",
   "metadata": {},
   "source": [
    "## Libraries\n"
   ]
  },
  {
   "cell_type": "code",
   "execution_count": 16,
   "id": "09581b59",
   "metadata": {},
   "outputs": [],
   "source": [
    "from __future__ import annotations\n",
    "from dataclasses import dataclass\n",
    "from pathlib import Path\n",
    "import json, yaml, math, os\n",
    "import numpy as np\n",
    "import pandas as pd\n",
    "import cv2\n",
    "from tqdm import tqdm\n",
    "from sklearn.cluster import MiniBatchKMeans\n",
    "import matplotlib.pyplot as plt"
   ]
  },
  {
   "cell_type": "markdown",
   "id": "67466d16",
   "metadata": {},
   "source": [
    "## Config\n"
   ]
  },
  {
   "cell_type": "code",
   "execution_count": 17,
   "id": "51b2ff40",
   "metadata": {},
   "outputs": [],
   "source": [
    "MASTER_CSV = \"../data_interim/Skycam_Gallo/imagenes_con_datos_asignados_1a1.csv\"  \n",
    "RUTA_IMGS = \"../data_interim/Skycam_Gallo/Imagenes_Procesadas\"\n",
    "df_master = pd.read_csv(MASTER_CSV)"
   ]
  },
  {
   "cell_type": "markdown",
   "id": "9575efd6",
   "metadata": {},
   "source": [
    "## Exploration"
   ]
  },
  {
   "cell_type": "code",
   "execution_count": 18,
   "id": "4d9cd231",
   "metadata": {},
   "outputs": [
    {
     "name": "stdout",
     "output_type": "stream",
     "text": [
      "Dimensions of master DataFrame: (19884, 11)\n",
      "\n",
      "Available columns:\n",
      "['archivo', 'carpeta', 'probabilidad_lluvia', 'prediccion_binaria', 'timestamp_img', 'Fecha_Hora', 'Temperatura_°C', 'Humedad_%', 'Presión_hPa', 'Irradiancia_Lufft', 'Irradiancia_Meteocontrol']\n"
     ]
    }
   ],
   "source": [
    "print(\"Dimensions of master DataFrame:\", df_master.shape)\n",
    "print(\"\\nAvailable columns:\")\n",
    "print(df_master.columns.tolist())"
   ]
  },
  {
   "cell_type": "code",
   "execution_count": 19,
   "id": "bad4e921",
   "metadata": {},
   "outputs": [
    {
     "data": {
      "text/html": [
       "<div>\n",
       "<style scoped>\n",
       "    .dataframe tbody tr th:only-of-type {\n",
       "        vertical-align: middle;\n",
       "    }\n",
       "\n",
       "    .dataframe tbody tr th {\n",
       "        vertical-align: top;\n",
       "    }\n",
       "\n",
       "    .dataframe thead th {\n",
       "        text-align: right;\n",
       "    }\n",
       "</style>\n",
       "<table border=\"1\" class=\"dataframe\">\n",
       "  <thead>\n",
       "    <tr style=\"text-align: right;\">\n",
       "      <th></th>\n",
       "      <th>archivo</th>\n",
       "      <th>carpeta</th>\n",
       "      <th>probabilidad_lluvia</th>\n",
       "      <th>prediccion_binaria</th>\n",
       "      <th>timestamp_img</th>\n",
       "      <th>Fecha_Hora</th>\n",
       "      <th>Temperatura_°C</th>\n",
       "      <th>Humedad_%</th>\n",
       "      <th>Presión_hPa</th>\n",
       "      <th>Irradiancia_Lufft</th>\n",
       "      <th>Irradiancia_Meteocontrol</th>\n",
       "    </tr>\n",
       "  </thead>\n",
       "  <tbody>\n",
       "    <tr>\n",
       "      <th>0</th>\n",
       "      <td>image-20250407101106.jpg</td>\n",
       "      <td>20250407</td>\n",
       "      <td>0.353816</td>\n",
       "      <td>1</td>\n",
       "      <td>2025-04-07 10:11:06</td>\n",
       "      <td>NaN</td>\n",
       "      <td>NaN</td>\n",
       "      <td>NaN</td>\n",
       "      <td>NaN</td>\n",
       "      <td>NaN</td>\n",
       "      <td>NaN</td>\n",
       "    </tr>\n",
       "    <tr>\n",
       "      <th>1</th>\n",
       "      <td>image-20250407112447.jpg</td>\n",
       "      <td>20250407</td>\n",
       "      <td>0.522174</td>\n",
       "      <td>1</td>\n",
       "      <td>2025-04-07 11:24:47</td>\n",
       "      <td>NaN</td>\n",
       "      <td>NaN</td>\n",
       "      <td>NaN</td>\n",
       "      <td>NaN</td>\n",
       "      <td>NaN</td>\n",
       "      <td>NaN</td>\n",
       "    </tr>\n",
       "    <tr>\n",
       "      <th>2</th>\n",
       "      <td>image-20250407112605.jpg</td>\n",
       "      <td>20250407</td>\n",
       "      <td>0.506453</td>\n",
       "      <td>1</td>\n",
       "      <td>2025-04-07 11:26:05</td>\n",
       "      <td>NaN</td>\n",
       "      <td>NaN</td>\n",
       "      <td>NaN</td>\n",
       "      <td>NaN</td>\n",
       "      <td>NaN</td>\n",
       "      <td>NaN</td>\n",
       "    </tr>\n",
       "    <tr>\n",
       "      <th>3</th>\n",
       "      <td>image-20250407112818.jpg</td>\n",
       "      <td>20250407</td>\n",
       "      <td>0.510108</td>\n",
       "      <td>1</td>\n",
       "      <td>2025-04-07 11:28:18</td>\n",
       "      <td>NaN</td>\n",
       "      <td>NaN</td>\n",
       "      <td>NaN</td>\n",
       "      <td>NaN</td>\n",
       "      <td>NaN</td>\n",
       "      <td>NaN</td>\n",
       "    </tr>\n",
       "    <tr>\n",
       "      <th>4</th>\n",
       "      <td>image-20250407112858.jpg</td>\n",
       "      <td>20250407</td>\n",
       "      <td>0.385175</td>\n",
       "      <td>1</td>\n",
       "      <td>2025-04-07 11:28:58</td>\n",
       "      <td>NaN</td>\n",
       "      <td>NaN</td>\n",
       "      <td>NaN</td>\n",
       "      <td>NaN</td>\n",
       "      <td>NaN</td>\n",
       "      <td>NaN</td>\n",
       "    </tr>\n",
       "  </tbody>\n",
       "</table>\n",
       "</div>"
      ],
      "text/plain": [
       "                    archivo   carpeta  probabilidad_lluvia  \\\n",
       "0  image-20250407101106.jpg  20250407             0.353816   \n",
       "1  image-20250407112447.jpg  20250407             0.522174   \n",
       "2  image-20250407112605.jpg  20250407             0.506453   \n",
       "3  image-20250407112818.jpg  20250407             0.510108   \n",
       "4  image-20250407112858.jpg  20250407             0.385175   \n",
       "\n",
       "   prediccion_binaria        timestamp_img Fecha_Hora  Temperatura_°C  \\\n",
       "0                   1  2025-04-07 10:11:06        NaN             NaN   \n",
       "1                   1  2025-04-07 11:24:47        NaN             NaN   \n",
       "2                   1  2025-04-07 11:26:05        NaN             NaN   \n",
       "3                   1  2025-04-07 11:28:18        NaN             NaN   \n",
       "4                   1  2025-04-07 11:28:58        NaN             NaN   \n",
       "\n",
       "   Humedad_%  Presión_hPa  Irradiancia_Lufft  Irradiancia_Meteocontrol  \n",
       "0        NaN          NaN                NaN                       NaN  \n",
       "1        NaN          NaN                NaN                       NaN  \n",
       "2        NaN          NaN                NaN                       NaN  \n",
       "3        NaN          NaN                NaN                       NaN  \n",
       "4        NaN          NaN                NaN                       NaN  "
      ]
     },
     "execution_count": 19,
     "metadata": {},
     "output_type": "execute_result"
    }
   ],
   "source": [
    "df_master.head()"
   ]
  },
  {
   "cell_type": "code",
   "execution_count": 20,
   "id": "d74840d7",
   "metadata": {},
   "outputs": [
    {
     "name": "stdout",
     "output_type": "stream",
     "text": [
      "Initial analysis of Irradiance_Lufft column:\n",
      "Total records: 19884\n",
      "Non-NaN values: 2021\n",
      "NaN values: 17863\n",
      "Percentage of NaN values: 89.84%\n"
     ]
    }
   ],
   "source": [
    "print(\"Initial analysis of Irradiance_Lufft column:\")\n",
    "print(f\"Total records: {len(df_master)}\")\n",
    "print(f\"Non-NaN values: {df_master['Irradiancia_Lufft'].notna().sum()}\")\n",
    "print(f\"NaN values: {df_master['Irradiancia_Lufft'].isna().sum()}\")\n",
    "print(f\"Percentage of NaN values: {df_master['Irradiancia_Lufft'].isna().mean() * 100:.2f}%\")"
   ]
  },
  {
   "cell_type": "markdown",
   "id": "fb405737",
   "metadata": {},
   "source": [
    "## Validation"
   ]
  },
  {
   "cell_type": "code",
   "execution_count": 21,
   "id": "e0cd5c59",
   "metadata": {},
   "outputs": [],
   "source": [
    "def img_exists(row):\n",
    "    archivo_proc = row['archivo'].replace('.jpg', '_proc.jpg')\n",
    "    ruta = os.path.join(RUTA_IMGS, str(row['carpeta']), archivo_proc)\n",
    "    return os.path.isfile(ruta)"
   ]
  },
  {
   "cell_type": "code",
   "execution_count": 22,
   "id": "e86d0314",
   "metadata": {},
   "outputs": [
    {
     "name": "stdout",
     "output_type": "stream",
     "text": [
      "verified: 19884 rows\n",
      "Time filter (07:00-16:30): 14796 rows remaining\n"
     ]
    }
   ],
   "source": [
    "df_master = df_master[df_master.apply(img_exists, axis=1)].reset_index(drop=True)\n",
    "print(f\"verified: {len(df_master)} rows\")\n",
    "\n",
    "df_master['timestamp_img'] = pd.to_datetime(df_master['timestamp_img'])\n",
    "\n",
    "start_time = pd.to_datetime('07:00:00').time()\n",
    "end_time = pd.to_datetime('16:30:00').time()\n",
    "\n",
    "time_mask = (\n",
    "    (df_master['timestamp_img'].dt.time >= start_time) & \n",
    "    (df_master['timestamp_img'].dt.time <= end_time)\n",
    ")\n",
    "\n",
    "df_master = df_master[time_mask].reset_index(drop=True)\n",
    "print(f\"Time filter (07:00-16:30): {len(df_master)} rows remaining\")\n",
    "\n",
    "df_master = df_master.sort_values('timestamp_img').reset_index(drop=True)"
   ]
  },
  {
   "cell_type": "code",
   "execution_count": 26,
   "id": "0a3ac66a",
   "metadata": {},
   "outputs": [
    {
     "name": "stdout",
     "output_type": "stream",
     "text": [
      "Date range of available data:\n",
      "Start: 2025-04-07 10:11:06\n",
      "End: 2025-06-09 16:29:28\n",
      "Total days: 64\n",
      "\n",
      "Records per day:\n",
      "328.8 6 535\n"
     ]
    }
   ],
   "source": [
    "start_date = df_master['timestamp_img'].min()\n",
    "end_date = df_master['timestamp_img'].max()\n",
    "\n",
    "print(f\"Date range of available data:\")\n",
    "print(f\"Start: {start_date}\")\n",
    "print(f\"End: {end_date}\")\n",
    "print(f\"Total days: {(end_date - start_date).days + 1}\")\n",
    "\n",
    "print(f\"\\nRecords per day:\")\n",
    "daily_counts = df_master['timestamp_img'].dt.date.value_counts().sort_index()\n",
    "print(daily_counts.mean() , daily_counts.min(), daily_counts.max())"
   ]
  }
 ],
 "metadata": {
  "kernelspec": {
   "display_name": "e_ladino",
   "language": "python",
   "name": "python3"
  },
  "language_info": {
   "codemirror_mode": {
    "name": "ipython",
    "version": 3
   },
   "file_extension": ".py",
   "mimetype": "text/x-python",
   "name": "python",
   "nbconvert_exporter": "python",
   "pygments_lexer": "ipython3",
   "version": "3.12.11"
  }
 },
 "nbformat": 4,
 "nbformat_minor": 5
}
