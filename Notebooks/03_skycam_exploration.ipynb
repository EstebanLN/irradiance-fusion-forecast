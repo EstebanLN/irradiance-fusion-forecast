{
 "cells": [
  {
   "cell_type": "markdown",
   "id": "beaaed6a",
   "metadata": {},
   "source": [
    "# Data exploration\n",
    "## Overview\n"
   ]
  },
  {
   "cell_type": "markdown",
   "id": "002cfb1f",
   "metadata": {},
   "source": [
    "## Libraries\n"
   ]
  },
  {
   "cell_type": "code",
   "execution_count": null,
   "id": "09581b59",
   "metadata": {},
   "outputs": [],
   "source": [
    "from __future__ import annotations\n",
    "from dataclasses import dataclass\n",
    "from pathlib import Path\n",
    "import json, yaml, math, os\n",
    "import numpy as np\n",
    "import pandas as pd\n",
    "import cv2\n",
    "from tqdm import tqdm\n",
    "from sklearn.cluster import MiniBatchKMeans\n",
    "import matplotlib.pyplot as plt"
   ]
  },
  {
   "cell_type": "markdown",
   "id": "67466d16",
   "metadata": {},
   "source": [
    "## Config\n"
   ]
  },
  {
   "cell_type": "code",
   "execution_count": null,
   "id": "51b2ff40",
   "metadata": {},
   "outputs": [],
   "source": []
  },
  {
   "cell_type": "markdown",
   "id": "b82336a4",
   "metadata": {},
   "source": [
    "## Calibration\n"
   ]
  },
  {
   "cell_type": "markdown",
   "id": "e997995a",
   "metadata": {},
   "source": [
    "## Utilities\n"
   ]
  },
  {
   "cell_type": "markdown",
   "id": "496ec824",
   "metadata": {},
   "source": [
    "## Processing (DAY)\n"
   ]
  },
  {
   "cell_type": "markdown",
   "id": "32a8d41a",
   "metadata": {},
   "source": [
    "## Loop"
   ]
  }
 ],
 "metadata": {
  "kernelspec": {
   "display_name": "e_ladino",
   "language": "python",
   "name": "python3"
  },
  "language_info": {
   "name": "python",
   "version": "3.12.11"
  }
 },
 "nbformat": 4,
 "nbformat_minor": 5
}
