{
 "cells": [
  {
   "cell_type": "code",
   "execution_count": 2,
   "id": "e71047a2",
   "metadata": {},
   "outputs": [
    {
     "name": "stdout",
     "output_type": "stream",
     "text": [
      "🔹 TensorFlow version: 2.18.1\n",
      "GPUs visibles para TensorFlow: [PhysicalDevice(name='/physical_device:GPU:0', device_type='GPU')]\n",
      "\n",
      "🔹 PyTorch version: 2.8.0+cu129\n",
      "¿CUDA disponible?  True\n",
      "GPU actual: NVIDIA GeForce RTX 4090\n",
      "Número de GPUs: 1\n",
      "Versión CUDA usada por PyTorch: 12.9\n",
      "Versión cuDNN: 90101\n"
     ]
    }
   ],
   "source": [
    "# -------------------------------\n",
    "# GPU CHECK: TensorFlow / Keras\n",
    "# -------------------------------\n",
    "import tensorflow as tf\n",
    "\n",
    "print(\"🔹 TensorFlow version:\", tf.__version__)\n",
    "gpus_tf = tf.config.list_physical_devices('GPU')\n",
    "print(\"GPUs visibles para TensorFlow:\", gpus_tf)\n",
    "\n",
    "# -------------------------------\n",
    "# GPU CHECK: PyTorch\n",
    "# -------------------------------\n",
    "import torch\n",
    "\n",
    "print(\"\\n🔹 PyTorch version:\", torch.__version__)\n",
    "print(\"¿CUDA disponible? \", torch.cuda.is_available())\n",
    "if torch.cuda.is_available():\n",
    "    print(\"GPU actual:\", torch.cuda.get_device_name(0))\n",
    "    print(\"Número de GPUs:\", torch.cuda.device_count())\n",
    "    print(\"Versión CUDA usada por PyTorch:\", torch.version.cuda)\n",
    "    print(\"Versión cuDNN:\", torch.backends.cudnn.version())\n"
   ]
  }
 ],
 "metadata": {
  "kernelspec": {
   "display_name": "e_ladino",
   "language": "python",
   "name": "python3"
  },
  "language_info": {
   "codemirror_mode": {
    "name": "ipython",
    "version": 3
   },
   "file_extension": ".py",
   "mimetype": "text/x-python",
   "name": "python",
   "nbconvert_exporter": "python",
   "pygments_lexer": "ipython3",
   "version": "3.12.11"
  }
 },
 "nbformat": 4,
 "nbformat_minor": 5
}
