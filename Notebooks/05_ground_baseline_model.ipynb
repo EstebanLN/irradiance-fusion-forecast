{
 "cells": [
  {
   "cell_type": "code",
   "execution_count": 16,
   "id": "873c8164",
   "metadata": {},
   "outputs": [],
   "source": [
    "# %% Imports y paths\n",
    "import os\n",
    "from pathlib import Path\n",
    "import numpy as np\n",
    "import pandas as pd\n",
    "import matplotlib.pyplot as plt\n",
    "\n",
    "from sklearn.metrics import root_mean_squared_error, mean_absolute_error\n",
    "from sklearn.ensemble import HistGradientBoostingRegressor\n",
    "from sklearn.linear_model import Ridge\n",
    "from sklearn.preprocessing import StandardScaler\n",
    "from sklearn.pipeline import Pipeline\n",
    "import joblib\n",
    "\n",
    "DATA_DIR = Path(\"../data_processed\")\n",
    "OUT_DIR  = Path(\"../models\")\n",
    "OUT_DIR.mkdir(parents=True, exist_ok=True)\n",
    "\n",
    "TRAIN_PQ = DATA_DIR / \"ground_train_h6.parquet\"\n",
    "VAL_PQ   = DATA_DIR / \"ground_val_h6.parquet\"\n",
    "TEST_PQ  = DATA_DIR / \"ground_test_h6.parquet\"\n",
    "TARGET   = \"y_k_h6\" \n",
    "SEED     = 42"
   ]
  },
  {
   "cell_type": "code",
   "execution_count": 17,
   "id": "65fde567",
   "metadata": {},
   "outputs": [
    {
     "name": "stdout",
     "output_type": "stream",
     "text": [
      "train: (57789, 41) val: (12384, 41) test: (12384, 41)\n",
      "Post dropna -> train: (57789, 41) val: (12384, 41) test: (12384, 41)\n"
     ]
    }
   ],
   "source": [
    "# %% Carga y chequeos básicos\n",
    "train = pd.read_parquet(TRAIN_PQ)\n",
    "val   = pd.read_parquet(VAL_PQ)\n",
    "test  = pd.read_parquet(TEST_PQ)\n",
    "\n",
    "print(\"train:\", train.shape, \"val:\", val.shape, \"test:\", test.shape)\n",
    "\n",
    "assert TARGET in train.columns, f\"Target '{TARGET}' no está en train.\"\n",
    "assert set(train.columns) == set(val.columns) == set(test.columns), \"Columnas no coinciden entre splits.\"\n",
    "\n",
    "# Si hay NaN, los removemos (simple para baseline)\n",
    "train = train.dropna(subset=[TARGET]).dropna()\n",
    "val   = val.dropna(subset=[TARGET]).dropna()\n",
    "test  = test.dropna(subset=[TARGET]).dropna()\n",
    "\n",
    "print(\"Post dropna -> train:\", train.shape, \"val:\", val.shape, \"test:\", test.shape)\n"
   ]
  },
  {
   "cell_type": "code",
   "execution_count": 18,
   "id": "5a94525d",
   "metadata": {},
   "outputs": [
    {
     "name": "stdout",
     "output_type": "stream",
     "text": [
      "n_features: 40\n"
     ]
    }
   ],
   "source": [
    "# %% Selección de features y target\n",
    "feat_cols = [c for c in train.columns if c != TARGET]\n",
    "Xtr, ytr = train[feat_cols], train[TARGET]\n",
    "Xva, yva = val[feat_cols],   val[TARGET]\n",
    "Xte, yte = test[feat_cols],  test[TARGET]\n",
    "\n",
    "print(\"n_features:\", len(feat_cols))\n"
   ]
  },
  {
   "cell_type": "code",
   "execution_count": 19,
   "id": "35618d6f",
   "metadata": {},
   "outputs": [],
   "source": [
    "# %% Métricas helper\n",
    "def rmse(y_true, y_pred):\n",
    "    return root_mean_squared_error(y_true, y_pred)\n",
    "\n",
    "def mae(y_true, y_pred):\n",
    "    return mean_absolute_error(y_true, y_pred)\n",
    "\n",
    "def mape(y_true, y_pred, eps=1e-6):\n",
    "    y_true = np.asarray(y_true)\n",
    "    y_pred = np.asarray(y_pred)\n",
    "    mask = np.abs(y_true) > eps\n",
    "    return (np.abs((y_true[mask] - y_pred[mask]) / y_true[mask]).mean()) * 100 if mask.any() else np.nan\n"
   ]
  },
  {
   "cell_type": "code",
   "execution_count": 20,
   "id": "8385b638",
   "metadata": {},
   "outputs": [
    {
     "name": "stdout",
     "output_type": "stream",
     "text": [
      "[Baseline: median]  val -> RMSE: 326997.76206627977 MAE: 48908.462178305905\n",
      "[Baseline: median]  test -> RMSE: 268729.7606465801 MAE: 42850.24269059426\n"
     ]
    }
   ],
   "source": [
    "# %% Baseline 1: mediana (constante)\n",
    "yhat_val_med = np.full_like(yva, fill_value=np.median(ytr), dtype=float)\n",
    "yhat_te_med  = np.full_like(yte, fill_value=np.median(ytr), dtype=float)\n",
    "\n",
    "print(\"[Baseline: median]  val -> RMSE:\", rmse(yva, yhat_val_med), \"MAE:\", mae(yva, yhat_val_med))\n",
    "print(\"[Baseline: median]  test -> RMSE:\", rmse(yte, yhat_te_med),  \"MAE:\", mae(yte, yhat_te_med))\n"
   ]
  },
  {
   "cell_type": "code",
   "execution_count": 21,
   "id": "ef255477",
   "metadata": {},
   "outputs": [
    {
     "name": "stdout",
     "output_type": "stream",
     "text": [
      "[Baseline: persistence] val -> RMSE: 449936.6021853133 MAE: 90276.15394551976\n",
      "[Baseline: persistence] test -> RMSE: 369755.6499052737 MAE: 77893.67098874913\n"
     ]
    }
   ],
   "source": [
    "# %% Baseline 2: persistencia (si existe 'k_ghi_lag1')\n",
    "persist_col = \"k_ghi_lag1\"\n",
    "if persist_col in feat_cols:\n",
    "    yhat_val_pers = Xva[persist_col].values\n",
    "    yhat_te_pers  = Xte[persist_col].values\n",
    "    print(\"[Baseline: persistence] val -> RMSE:\", rmse(yva, yhat_val_pers), \"MAE:\", mae(yva, yhat_val_pers))\n",
    "    print(\"[Baseline: persistence] test -> RMSE:\", rmse(yte, yhat_te_pers),  \"MAE:\", mae(yte, yhat_te_pers))\n",
    "else:\n",
    "    print(\"No hay columna de persistencia ('k_ghi_lag1'); se omite baseline de persistencia.\")\n"
   ]
  },
  {
   "cell_type": "code",
   "execution_count": 22,
   "id": "8b34aa8e",
   "metadata": {},
   "outputs": [
    {
     "name": "stdout",
     "output_type": "stream",
     "text": [
      "[Ridge] val -> RMSE: 321236.9037951847 MAE: 95974.60338721322\n"
     ]
    }
   ],
   "source": [
    "# %% Modelo 1: Ridge lineal (rápido, con estandarización)\n",
    "ridge = Pipeline([\n",
    "    (\"scaler\", StandardScaler(with_mean=False)),  # with_mean=False por si hay muchas features esparsas; seguro con dense también\n",
    "    (\"model\", Ridge(alpha=1.0, random_state=SEED))\n",
    "])\n",
    "ridge.fit(Xtr, ytr)\n",
    "yhat_val_r = ridge.predict(Xva)\n",
    "print(\"[Ridge] val -> RMSE:\", rmse(yva, yhat_val_r), \"MAE:\", mae(yva, yhat_val_r))\n"
   ]
  },
  {
   "cell_type": "code",
   "execution_count": 23,
   "id": "4680dfbd",
   "metadata": {},
   "outputs": [],
   "source": [
    "# # %% Modelo 2: HistGradientBoosting (árboles rápidos)\n",
    "# # Mini-grid sobre (learning_rate, max_depth, max_leaf_nodes)\n",
    "# grid = [\n",
    "#     dict(learning_rate=0.05, max_depth=None\n"
   ]
  }
 ],
 "metadata": {
  "kernelspec": {
   "display_name": "e_ladino",
   "language": "python",
   "name": "python3"
  },
  "language_info": {
   "codemirror_mode": {
    "name": "ipython",
    "version": 3
   },
   "file_extension": ".py",
   "mimetype": "text/x-python",
   "name": "python",
   "nbconvert_exporter": "python",
   "pygments_lexer": "ipython3",
   "version": "3.12.11"
  }
 },
 "nbformat": 4,
 "nbformat_minor": 5
}
